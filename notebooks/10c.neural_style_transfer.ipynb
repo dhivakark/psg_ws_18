{
 "cells": [
  {
   "cell_type": "code",
   "execution_count": 1,
   "metadata": {
    "collapsed": false
   },
   "outputs": [
    {
     "name": "stderr",
     "output_type": "stream",
     "text": [
      "Using Theano backend.\n"
     ]
    },
    {
     "data": {
      "text/plain": [
       "'2.0.8'"
      ]
     },
     "execution_count": 1,
     "metadata": {},
     "output_type": "execute_result"
    }
   ],
   "source": [
    "import keras\n",
    "keras.__version__"
   ]
  },
  {
   "cell_type": "markdown",
   "metadata": {},
   "source": [
    "# Neural style transfer\n",
    "\n",
    "\n",
    "This notebook contains the code samples found in Chapter 8, Section 3 of [Deep Learning with Python](https://www.manning.com/books/deep-learning-with-python?a_aid=keras&a_bid=76564dff). Note that the original text features far more content, in particular further explanations and figures: in this notebook, you will only find source code and related comments.\n",
    "\n",
    "----\n",
    "\n",
    "\n",
    "Besides Deep Dream, another major development in deep learning-driven image modification that happened in the summer of 2015 is neural \n",
    "style transfer, introduced by Leon Gatys et al. The neural style transfer algorithm has undergone many refinements and spawned many \n",
    "variations since its original introduction, including a viral smartphone app, called Prisma. For simplicity, this section focuses on the \n",
    "formulation described in the original paper.\n",
    "\n",
    "Neural style transfer consists in applying the \"style\" of a reference image to a target image, while conserving the \"content\" of the target \n",
    "image:\n",
    "\n"
   ]
  },
  {
   "cell_type": "markdown",
   "metadata": {
    "collapsed": true
   },
   "source": [
    "![style transfer](https://s3.amazonaws.com/book.keras.io/img/ch8/style_transfer.png)"
   ]
  },
  {
   "cell_type": "markdown",
   "metadata": {},
   "source": [
    "\n",
    "What is meant by \"style\" is essentially textures, colors, and visual patterns in the image, at various spatial scales, while the \"content\" \n",
    "is the higher-level macrostructure of the image. For instance, blue-and-yellow circular brush strokes are considered to be the \"style\" in \n",
    "the above example using Starry Night by Van Gogh, while the buildings in the Tuebingen photograph are considered to be the \"content\".\n",
    "\n",
    "The idea of style transfer, tightly related to that of texture generation, has had a long history in the image processing community prior \n",
    "to the development of neural style transfer in 2015. However, as it turned out, the deep learning-based implementations of style transfer \n",
    "offered results unparalleled by what could be previously achieved with classical computer vision techniques, and triggered an amazing \n",
    "renaissance in creative applications of computer vision.\n",
    "\n",
    "The key notion behind implementing style transfer is same idea that is central to all deep learning algorithms: we define a loss function \n",
    "to specify what we want to achieve, and we minimize this loss. We know what we want to achieve: conserve the \"content\" of the original image, \n",
    "while adopting the \"style\" of the reference image. If we were able to mathematically define content and style, then an appropriate loss \n",
    "function to minimize would be the following:"
   ]
  },
  {
   "cell_type": "markdown",
   "metadata": {},
   "source": [
    "```\n",
    "loss = distance(style(reference_image) - style(generated_image)) +\n",
    "       distance(content(original_image) - content(generated_image))\n",
    "```"
   ]
  },
  {
   "cell_type": "markdown",
   "metadata": {},
   "source": [
    "\n",
    "Where `distance` is a norm function such as the L2 norm, `content` is a function that takes an image and computes a representation of its \n",
    "\"content\", and `style` is a function that takes an image and computes a representation of its \"style\".\n",
    "\n",
    "Minimizing this loss would cause `style(generated_image)` to be close to `style(reference_image)`, while `content(generated_image)` would \n",
    "be close to `content(generated_image)`, thus achieving style transfer as we defined it.\n",
    "\n",
    "A fundamental observation made by Gatys et al is that deep convolutional neural networks offer precisely a way to mathematically defined \n",
    "the `style` and `content` functions. Let's see how."
   ]
  },
  {
   "cell_type": "markdown",
   "metadata": {},
   "source": [
    "## The content loss\n",
    "\n",
    "\n",
    "As you already know, activations from earlier layers in a network contain _local_ information about the image, while activations from \n",
    "higher layers contain increasingly _global_ and _abstract_ information. Formulated in a different way, the activations of the different \n",
    "layers of a convnet provide a decomposition of the contents of an image over different spatial scales. Therefore we expect the \"content\" of \n",
    "an image, which is more global and more abstract, to be captured by the representations of a top layer of a convnet.\n",
    "\n",
    "A good candidate for a content loss would thus be to consider a pre-trained convnet, and define as our loss the L2 norm between the \n",
    "activations of a top layer computed over the target image and the activations of the same layer computed over the generated image. This \n",
    "would guarantee that, as seen from the top layer of the convnet, the generated image will \"look similar\" to the original target image. \n",
    "Assuming that what the top layers of a convnet see is really the \"content\" of their input images, then this does work as a way to preserve \n",
    "image content."
   ]
  },
  {
   "cell_type": "markdown",
   "metadata": {},
   "source": [
    "## The style loss\n",
    "\n",
    "\n",
    "While the content loss only leverages a single higher-up layer, the style loss as defined in the Gatys et al. paper leverages multiple \n",
    "layers of a convnet: we aim at capturing the appearance of the style reference image at all spatial scales extracted by the convnet, not \n",
    "just any single scale.\n",
    "\n",
    "For the style loss, the Gatys et al. paper leverages the \"Gram matrix\" of a layer's activations, i.e. the inner product between the feature maps \n",
    "of a given layer. This inner product can be understood as representing a map of the correlations between the features of a layer. These \n",
    "feature correlations capture the statistics of the patterns of a particular spatial scale, which empirically corresponds to the appearance \n",
    "of the textures found at this scale.\n",
    "\n",
    "Hence the style loss aims at preserving similar internal correlations within the activations of different layers, across the style \n",
    "reference image and the generated image. In turn, this guarantees that the textures found at different spatial scales will look similar \n",
    "across the style reference image and the generated image."
   ]
  },
  {
   "cell_type": "markdown",
   "metadata": {},
   "source": [
    "## In short\n",
    "\n",
    "\n",
    "In short, we can use a pre-trained convnet to define a loss that will:\n",
    "\n",
    "* Preserve content by maintaining similar high-level layer activations between the target content image and the generated image. The \n",
    "convnet should \"see\" both the target image and the generated image as \"containing the same things\".\n",
    "* Preserve style by maintaining similar _correlations_ within activations for both low-level layers and high-level layers. Indeed, feature \n",
    "correlations capture _textures_: the generated and the style reference image should share the same textures at different spatial scales.\n",
    "\n",
    "Now let's take a look at a Keras implementation of the original 2015 neural style transfer algorithm. As you will see, it shares a lot of \n",
    "similarities with the Deep Dream implementation we developed in the previous section."
   ]
  },
  {
   "cell_type": "markdown",
   "metadata": {},
   "source": [
    "## Neural style transfer in Keras\n",
    "\n",
    "\n",
    "Neural style transfer can be implemented using any pre-trained convnet. Here we will use the VGG19 network, used by Gatys et al in their paper. \n",
    "VGG19 is a simple variant of the VGG16 network we introduced in Chapter 5, with three more convolutional layers.\n",
    "\n",
    "This is our general process:\n",
    "\n",
    "* Set up a network that will compute VGG19 layer activations for the style reference image, the target image, and the generated image at \n",
    "the same time.\n",
    "* Use the layer activations computed over these three images to define the loss function described above, which we will minimize in order \n",
    "to achieve style transfer.\n",
    "* Set up a gradient descent process to minimize this loss function.\n",
    "\n",
    "\n",
    "Let's start by defining the paths to the two images we consider: the style reference image and the target image. To make sure that all \n",
    "images processed share similar sizes (widely different sizes would make style transfer more difficult), we will later resize them all to a \n",
    "shared height of 400px."
   ]
  },
  {
   "cell_type": "code",
   "execution_count": 2,
   "metadata": {
    "collapsed": true
   },
   "outputs": [],
   "source": [
    "from keras.preprocessing.image import load_img, img_to_array\n",
    "\n",
    "# This is the path to the image you want to transform.\n",
    "target_image_path = '../data/style_transfer/image.png'\n",
    "# This is the path to the style image.\n",
    "style_reference_image_path = '../data/style_transfer/style.png'\n",
    "\n",
    "# Dimensions of the generated picture.\n",
    "width, height = load_img(target_image_path).size\n",
    "img_height = 400\n",
    "img_width = int(width * img_height / height)"
   ]
  },
  {
   "cell_type": "markdown",
   "metadata": {
    "collapsed": true
   },
   "source": [
    "We will need some auxiliary functions for loading, pre-processing and post-processing the images that will go in and out of the VGG19 \n",
    "convnet:"
   ]
  },
  {
   "cell_type": "code",
   "execution_count": 3,
   "metadata": {
    "collapsed": true
   },
   "outputs": [],
   "source": [
    "import numpy as np\n",
    "from keras.applications import vgg19\n",
    "\n",
    "def preprocess_image(image_path):\n",
    "    img = load_img(image_path, target_size=(img_height, img_width))\n",
    "    img = img_to_array(img)\n",
    "    img = np.expand_dims(img, axis=0)\n",
    "    img = vgg19.preprocess_input(img)\n",
    "    return img\n",
    "\n",
    "def deprocess_image(x):\n",
    "    # Remove zero-center by mean pixel\n",
    "    x[:, :, 0] += 103.939\n",
    "    x[:, :, 1] += 116.779\n",
    "    x[:, :, 2] += 123.68\n",
    "    # 'BGR'->'RGB'\n",
    "    x = x[:, :, ::-1]\n",
    "    x = np.clip(x, 0, 255).astype('uint8')\n",
    "    return x"
   ]
  },
  {
   "cell_type": "markdown",
   "metadata": {},
   "source": [
    "\n",
    "Let's set up the VGG19 network. It takes as input a batch of three images: the style reference image, the target image, and a placeholder \n",
    "that will contain the generated image. A placeholder is simply a symbolic tensor, the values of which are provided externally via Numpy \n",
    "arrays. The style reference and target image are static, and thus defined using `K.constant`, while the values contained in the placeholder \n",
    "of the generated image will change over time."
   ]
  },
  {
   "cell_type": "code",
   "execution_count": 4,
   "metadata": {
    "collapsed": false
   },
   "outputs": [
    {
     "name": "stdout",
     "output_type": "stream",
     "text": [
      "Downloading data from https://github.com/fchollet/deep-learning-models/releases/download/v0.1/vgg19_weights_tf_dim_ordering_tf_kernels_notop.h5\n",
      "80134144/80134624 [============================>.] - ETA: 0sModel loaded.\n"
     ]
    }
   ],
   "source": [
    "from keras import backend as K\n",
    "\n",
    "target_image = K.constant(preprocess_image(target_image_path))\n",
    "style_reference_image = K.constant(preprocess_image(style_reference_image_path))\n",
    "\n",
    "# This placeholder will contain our generated image\n",
    "combination_image = K.placeholder((1, img_height, img_width, 3))\n",
    "\n",
    "# We combine the 3 images into a single batch\n",
    "input_tensor = K.concatenate([target_image,\n",
    "                              style_reference_image,\n",
    "                              combination_image], axis=0)\n",
    "\n",
    "# We build the VGG19 network with our batch of 3 images as input.\n",
    "# The model will be loaded with pre-trained ImageNet weights.\n",
    "model = vgg19.VGG19(input_tensor=input_tensor,\n",
    "                    weights='imagenet',\n",
    "                    include_top=False)\n",
    "print('Model loaded.')"
   ]
  },
  {
   "cell_type": "markdown",
   "metadata": {},
   "source": [
    "\n",
    "Let's define the content loss, meant to make sure that the top layer of the VGG19 convnet will have a similar view of the target image and \n",
    "the generated image:"
   ]
  },
  {
   "cell_type": "code",
   "execution_count": 5,
   "metadata": {
    "collapsed": true
   },
   "outputs": [],
   "source": [
    "def content_loss(base, combination):\n",
    "    return K.sum(K.square(combination - base))"
   ]
  },
  {
   "cell_type": "markdown",
   "metadata": {},
   "source": [
    "\n",
    "Now, here's the style loss. It leverages an auxiliary function to compute the Gram matrix of an input matrix, i.e. a map of the correlations \n",
    "found in the original feature matrix."
   ]
  },
  {
   "cell_type": "code",
   "execution_count": 6,
   "metadata": {
    "collapsed": true
   },
   "outputs": [],
   "source": [
    "def gram_matrix(x):\n",
    "    features = K.batch_flatten(K.permute_dimensions(x, (2, 0, 1)))\n",
    "    gram = K.dot(features, K.transpose(features))\n",
    "    return gram\n",
    "\n",
    "\n",
    "def style_loss(style, combination):\n",
    "    S = gram_matrix(style)\n",
    "    C = gram_matrix(combination)\n",
    "    channels = 3\n",
    "    size = img_height * img_width\n",
    "    return K.sum(K.square(S - C)) / (4. * (channels ** 2) * (size ** 2))"
   ]
  },
  {
   "cell_type": "markdown",
   "metadata": {},
   "source": [
    "\n",
    "To these two loss components, we add a third one, the \"total variation loss\". It is meant to encourage spatial continuity in the generated \n",
    "image, thus avoiding overly pixelated results. You could interpret it as a regularization loss."
   ]
  },
  {
   "cell_type": "code",
   "execution_count": 7,
   "metadata": {
    "collapsed": true
   },
   "outputs": [],
   "source": [
    "def total_variation_loss(x):\n",
    "    a = K.square(\n",
    "        x[:, :img_height - 1, :img_width - 1, :] - x[:, 1:, :img_width - 1, :])\n",
    "    b = K.square(\n",
    "        x[:, :img_height - 1, :img_width - 1, :] - x[:, :img_height - 1, 1:, :])\n",
    "    return K.sum(K.pow(a + b, 1.25))"
   ]
  },
  {
   "cell_type": "markdown",
   "metadata": {},
   "source": [
    "\n",
    "The loss that we minimize is a weighted average of these three losses. To compute the content loss, we only leverage one top layer, the \n",
    "`block5_conv2` layer, while for the style loss we use a list of layers than spans both low-level and high-level layers. We add the total \n",
    "variation loss at the end.\n",
    "\n",
    "Depending on the style reference image and content image you are using, you will likely want to tune the `content_weight` coefficient, the \n",
    "contribution of the content loss to the total loss. A higher `content_weight` means that the target content will be more recognizable in \n",
    "the generated image."
   ]
  },
  {
   "cell_type": "code",
   "execution_count": 8,
   "metadata": {
    "collapsed": true
   },
   "outputs": [],
   "source": [
    "# Dict mapping layer names to activation tensors\n",
    "outputs_dict = dict([(layer.name, layer.output) for layer in model.layers])\n",
    "# Name of layer used for content loss\n",
    "content_layer = 'block5_conv2'\n",
    "# Name of layers used for style loss\n",
    "style_layers = ['block1_conv1',\n",
    "                'block2_conv1',\n",
    "                'block3_conv1',\n",
    "                'block4_conv1',\n",
    "                'block5_conv1']\n",
    "# Weights in the weighted average of the loss components\n",
    "total_variation_weight = 1e-4\n",
    "style_weight = 1.\n",
    "content_weight = 0.025\n",
    "\n",
    "# Define the loss by adding all components to a `loss` variable\n",
    "loss = K.variable(0.)\n",
    "layer_features = outputs_dict[content_layer]\n",
    "target_image_features = layer_features[0, :, :, :]\n",
    "combination_features = layer_features[2, :, :, :]\n",
    "loss += content_weight * content_loss(target_image_features,\n",
    "                                      combination_features)\n",
    "for layer_name in style_layers:\n",
    "    layer_features = outputs_dict[layer_name]\n",
    "    style_reference_features = layer_features[1, :, :, :]\n",
    "    combination_features = layer_features[2, :, :, :]\n",
    "    sl = style_loss(style_reference_features, combination_features)\n",
    "    loss += (style_weight / len(style_layers)) * sl\n",
    "loss += total_variation_weight * total_variation_loss(combination_image)"
   ]
  },
  {
   "cell_type": "markdown",
   "metadata": {},
   "source": [
    "\n",
    "Finally, we set up the gradient descent process. In the original Gatys et al. paper, optimization is performed using the L-BFGS algorithm, \n",
    "so that is also what we will use here. This is a key difference from the Deep Dream example in the previous section. The L-BFGS algorithms \n",
    "comes packaged with SciPy. However, there are two slight limitations with the SciPy implementation:\n",
    "\n",
    "* It requires to be passed the value of the loss function and the value of the gradients as two separate functions.\n",
    "* It can only be applied to flat vectors, whereas we have a 3D image array.\n",
    "\n",
    "It would be very inefficient for us to compute the value of the loss function and the value of gradients independently, since it would lead \n",
    "to a lot of redundant computation between the two. We would be almost twice slower than we could be by computing them jointly. To by-pass \n",
    "this, we set up a Python class named `Evaluator` that will compute both loss value and gradients value at once, will return the loss value \n",
    "when called the first time, and will cache the gradients for the next call."
   ]
  },
  {
   "cell_type": "code",
   "execution_count": null,
   "metadata": {
    "collapsed": true
   },
   "outputs": [],
   "source": [
    "# Get the gradients of the generated image wrt the loss\n",
    "grads = K.gradients(loss, combination_image)[0]\n",
    "\n",
    "# Function to fetch the values of the current loss and the current gradients\n",
    "fetch_loss_and_grads = K.function([combination_image], [loss, grads])\n",
    "\n",
    "\n",
    "class Evaluator(object):\n",
    "\n",
    "    def __init__(self):\n",
    "        self.loss_value = None\n",
    "        self.grads_values = None\n",
    "\n",
    "    def loss(self, x):\n",
    "        assert self.loss_value is None\n",
    "        x = x.reshape((1, img_height, img_width, 3))\n",
    "        outs = fetch_loss_and_grads([x])\n",
    "        loss_value = outs[0]\n",
    "        grad_values = outs[1].flatten().astype('float64')\n",
    "        self.loss_value = loss_value\n",
    "        self.grad_values = grad_values\n",
    "        return self.loss_value\n",
    "\n",
    "    def grads(self, x):\n",
    "        assert self.loss_value is not None\n",
    "        grad_values = np.copy(self.grad_values)\n",
    "        self.loss_value = None\n",
    "        self.grad_values = None\n",
    "        return grad_values\n",
    "\n",
    "evaluator = Evaluator()"
   ]
  },
  {
   "cell_type": "markdown",
   "metadata": {},
   "source": [
    "\n",
    "Finally, we can run the gradient ascent process using SciPy's L-BFGS algorithm, saving the current generated image at each iteration of the \n",
    "algorithm (here, a single iteration represents 20 steps of gradient ascent):"
   ]
  },
  {
   "cell_type": "code",
   "execution_count": null,
   "metadata": {
    "collapsed": false
   },
   "outputs": [],
   "source": [
    "from scipy.optimize import fmin_l_bfgs_b\n",
    "from scipy.misc import imsave\n",
    "import time\n",
    "\n",
    "result_prefix = 'style_transfer_result'\n",
    "iterations = 20\n",
    "\n",
    "# Run scipy-based optimization (L-BFGS) over the pixels of the generated image\n",
    "# so as to minimize the neural style loss.\n",
    "# This is our initial state: the target image.\n",
    "# Note that `scipy.optimize.fmin_l_bfgs_b` can only process flat vectors.\n",
    "x = preprocess_image(target_image_path)\n",
    "x = x.flatten()\n",
    "for i in range(iterations):\n",
    "    print('Start of iteration', i)\n",
    "    start_time = time.time()\n",
    "    x, min_val, info = fmin_l_bfgs_b(evaluator.loss, x,\n",
    "                                     fprime=evaluator.grads, maxfun=20)\n",
    "    print('Current loss value:', min_val)\n",
    "    # Save current generated image\n",
    "    img = x.copy().reshape((img_height, img_width, 3))\n",
    "    img = deprocess_image(img)\n",
    "    fname = result_prefix + '_at_iteration_%d.png' % i\n",
    "    imsave(fname, img)\n",
    "    end_time = time.time()\n",
    "    print('Image saved as', fname)\n",
    "    print('Iteration %d completed in %ds' % (i, end_time - start_time))"
   ]
  },
  {
   "cell_type": "markdown",
   "metadata": {},
   "source": [
    "Here's what we get:"
   ]
  },
  {
   "cell_type": "code",
   "execution_count": null,
   "metadata": {
    "collapsed": false
   },
   "outputs": [],
   "source": [
    "from matplotlib import pyplot as plt\n",
    "\n",
    "# Content image\n",
    "plt.imshow(load_img(target_image_path, target_size=(img_height, img_width)))\n",
    "plt.figure()\n",
    "\n",
    "# Style image\n",
    "plt.imshow(load_img(style_reference_image_path, target_size=(img_height, img_width)))\n",
    "plt.figure()\n",
    "\n",
    "# Generate image\n",
    "plt.imshow(img)\n",
    "plt.show()"
   ]
  },
  {
   "cell_type": "markdown",
   "metadata": {},
   "source": [
    "\n",
    "Keep in mind that what this technique achieves is merely a form of image re-texturing, or texture transfer. It will work best with style \n",
    "reference images that are strongly textured and highly self-similar, and with content targets that don't require high levels of details in \n",
    "order to be recognizable. It would typically not be able to achieve fairly abstract feats such as \"transferring the style of one portrait to \n",
    "another\". The algorithm is closer to classical signal processing than to AI, so don't expect it to work like magic!\n",
    "\n",
    "Additionally, do note that running this style transfer algorithm is quite slow. However, the transformation operated by our setup is simple \n",
    "enough that it can be learned by a small, fast feedforward convnet as well -- as long as you have appropriate training data available. Fast \n",
    "style transfer can thus be achieved by first spending a lot of compute cycles to generate input-output training examples for a fixed style \n",
    "reference image, using the above method, and then training a simple convnet to learn this style-specific transformation. Once that is done, \n",
    "stylizing a given image is instantaneous: it's a just a forward pass of this small convnet.\n",
    "\n",
    "\n",
    "## Take aways\n",
    "\n",
    "* Style transfer consists in creating a new image that preserves the \"contents\" of a target image while also capturing the \"style\" of a \n",
    "reference image.\n",
    "* \"Content\" can be captured by the high-level activations of a convnet.\n",
    "* \"Style\" can be captured by the internal correlations of the activations of different layers of a convnet.\n",
    "* Hence deep learning allows style transfer to be formulated as an optimization process using a loss defined with a pre-trained convnet.\n",
    "* Starting from this basic idea, many variants and refinements are possible!\n"
   ]
  },
  {
   "cell_type": "code",
   "execution_count": null,
   "metadata": {
    "collapsed": true
   },
   "outputs": [],
   "source": []
  },
  {
   "cell_type": "code",
   "execution_count": null,
   "metadata": {
    "collapsed": true
   },
   "outputs": [],
   "source": []
  },
  {
   "cell_type": "code",
   "execution_count": null,
   "metadata": {
    "collapsed": true
   },
   "outputs": [],
   "source": []
  }
 ],
 "metadata": {
  "kernelspec": {
   "display_name": "Python 2",
   "language": "python",
   "name": "python2"
  },
  "language_info": {
   "codemirror_mode": {
    "name": "ipython",
    "version": 2
   },
   "file_extension": ".py",
   "mimetype": "text/x-python",
   "name": "python",
   "nbconvert_exporter": "python",
   "pygments_lexer": "ipython2",
   "version": "2.7.14"
  }
 },
 "nbformat": 4,
 "nbformat_minor": 2
}
