{
 "cells": [
  {
   "cell_type": "markdown",
   "metadata": {},
   "source": [
    "# Matrix transformations\n",
    "In R3 a geometric transformation can be difined in the following way:\n",
    "$$\n",
    "\\left(\\begin{array}{cc} \n",
    "x'\\\\ y'\\\\ 1\n",
    "\\end{array}\\right) =\n",
    "\\left(\\begin{array}{cc} \n",
    "a11 & a12 & a13\\\\\n",
    "a21 & a22 & a23\\\\\n",
    "a31 & a32 & a33\n",
    "\\end{array}\\right)\n",
    "\\left(\\begin{array}{cc} \n",
    "x \\\\ y \\\\ 1\n",
    "\\end{array}\\right)\n",
    "$$\n",
    "where a11 to a33 define the type of transformations.\n",
    "\n",
    "Applying a geometric transformation to a given matrix in Numpy requires applying the inverse of the transformation to the coordinates of the matrix, create a new matrix of indices from the coordinates and map the matrix to the new indices.\n",
    "\n",
    "In the following example we will use a matrix, represented as an image for visual support. Once we calculate the new indices matrix we will map the original matrix to the new indices, wrapping the out-of-bounds indices to obtain a continuous plane using numpy.take with mode='wrap'"
   ]
  },
  {
   "cell_type": "code",
   "execution_count": null,
   "metadata": {},
   "outputs": [],
   "source": [
    "import numpy as np\n",
    "import matplotlib.pyplot as plt\n",
    "from matplotlib.path import Path\n",
    "import matplotlib.patches as patches\n",
    "\n",
    "#Some visual settings:\n",
    "%matplotlib inline"
   ]
  },
  {
   "cell_type": "markdown",
   "metadata": {},
   "source": [
    "Let's start with scaling transformation using inhomogeneous coordinates. We define square with equal sides and plot it."
   ]
  },
  {
   "cell_type": "code",
   "execution_count": null,
   "metadata": {},
   "outputs": [],
   "source": [
    "data_x = np.array([0, 1, 1, 0])\n",
    "data_y = np.array([0, 0, 1, 1])\n",
    "plt.axis((-2,3,-2,3))\n",
    "plt.grid(True)\n",
    "plt.axes().set_aspect('equal', 'datalim')\n",
    "plt.fill_between(data_x, data_y)"
   ]
  },
  {
   "cell_type": "markdown",
   "metadata": {},
   "source": [
    "Use scaling matrix and transform the coordinates and plot."
   ]
  },
  {
   "cell_type": "code",
   "execution_count": null,
   "metadata": {},
   "outputs": [],
   "source": [
    "scale_trns = np.array([[1.5, 0], [0, 1.5]])\n",
    "scaled_data = np.dot(scale_trns, np.vstack((data_x, data_y)))\n",
    "scaled_data_x, scaled_data_y = scaled_data[0,:], scaled_data[1,:]\n",
    "plt.axis((-2,3,-2,3))\n",
    "plt.grid(True)\n",
    "plt.axes().set_aspect('equal', 'datalim')\n",
    "plt.fill_betweenx(scaled_data_x, scaled_data_y)"
   ]
  },
  {
   "cell_type": "markdown",
   "metadata": {},
   "source": [
    "We will create necessary tool to draw ploygon given 4 points 'plot_ploy' is the utility to draw the polygon given 4 points"
   ]
  },
  {
   "cell_type": "code",
   "execution_count": null,
   "metadata": {},
   "outputs": [],
   "source": [
    "#Create a rectangle for this example:\n",
    "verts = [\n",
    "    (0., 0.), # left, bottom\n",
    "    (0., 1.), # left, top\n",
    "    (1., 1.), # right, top\n",
    "    (1., 0.), # right, bottom\n",
    "    ]"
   ]
  },
  {
   "cell_type": "code",
   "execution_count": null,
   "metadata": {},
   "outputs": [],
   "source": [
    "# Plotting Utility\n",
    "codes = [Path.MOVETO,\n",
    "         Path.LINETO,\n",
    "         Path.LINETO,\n",
    "         Path.LINETO,\n",
    "         ]\n",
    "path = Path(verts, codes)\n",
    "def plot_poly(path):\n",
    "    \"\"\"\n",
    "    Utility to plot the polygon\n",
    "    \"\"\"\n",
    "    fig = plt.figure(figsize=(10,10))\n",
    "    ax = fig.add_subplot(111,aspect='equal')\n",
    "    patch = patches.PathPatch(path, facecolor='blue')\n",
    "    ax.add_patch(patch)\n",
    "    ax.set_xlim(-5,5)\n",
    "    ax.set_ylim(-5,5)\n",
    "    ax.grid(True, which='both')\n",
    "    ax.axhline(y=0, color='k')\n",
    "    ax.axvline(x=0, color='k')\n",
    "    plt.show()\n",
    "    return"
   ]
  },
  {
   "cell_type": "code",
   "execution_count": null,
   "metadata": {},
   "outputs": [],
   "source": [
    "plot_poly(path)"
   ]
  },
  {
   "cell_type": "markdown",
   "metadata": {},
   "source": [
    "The geometric transformation function be written as follows:"
   ]
  },
  {
   "cell_type": "code",
   "execution_count": null,
   "metadata": {},
   "outputs": [],
   "source": [
    "def geometric_transformation(points, a):\n",
    "    points = np.array(points).T  #Transpose\n",
    "    points = np.insert(points, 2, 1, axis=0)  #Convert to homogeneous coordinates\n",
    "    new_points = np.dot(a,points)  #Transformation\n",
    "    new_points = (new_points[:-1]/new_points[-1])  #Convert back to inhomogeneous coordinates\n",
    "    return new_points.T  #Transpose back"
   ]
  },
  {
   "cell_type": "markdown",
   "metadata": {},
   "source": [
    "Let's see some transformations we can do.\n",
    "Scaling the plane in the x-axis by a factor of 1.5:\n",
    "$$\n",
    "\\left(\\begin{array}{cc} \n",
    "x'\\\\ y'\\\\ 1\n",
    "\\end{array}\\right) =\n",
    "\\left(\\begin{array}{cc} \n",
    "1.5 & 0 & 0\\\\\n",
    "0 & 1 & 0\\\\\n",
    "0 & 0 & 1\n",
    "\\end{array}\\right)\n",
    "\\left(\\begin{array}{cc} \n",
    "x \\\\ y \\\\ 1\n",
    "\\end{array}\\right)\n",
    "$$"
   ]
  },
  {
   "cell_type": "code",
   "execution_count": null,
   "metadata": {
    "scrolled": false
   },
   "outputs": [],
   "source": [
    "a = np.array([[1.5, 0, 0],\n",
    "              [0, 1, 0],\n",
    "              [0, 0, 1]])\n",
    "dst = geometric_transformation(verts, a)\n",
    "path = Path(dst,codes)\n",
    "plot_poly(path)"
   ]
  },
  {
   "cell_type": "markdown",
   "metadata": {},
   "source": [
    "Scaling in the x-y plane by a factor of 1.5:\n",
    "$$\n",
    "\\left(\\begin{array}{cc} \n",
    "x'\\\\ y'\\\\ 1\n",
    "\\end{array}\\right) =\n",
    "\\left(\\begin{array}{cc} \n",
    "1.5 & 0 & 0\\\\\n",
    "0 & 1.5 & 0\\\\\n",
    "0 & 0 & 1\n",
    "\\end{array}\\right)\n",
    "\\left(\\begin{array}{cc} \n",
    "x \\\\ y \\\\ 1\n",
    "\\end{array}\\right)\n",
    "$$"
   ]
  },
  {
   "cell_type": "code",
   "execution_count": null,
   "metadata": {},
   "outputs": [],
   "source": [
    "#a = ?\n",
    "dst = geometric_transformation(verts, a)\n",
    "path = Path(dst,codes)\n",
    "plot_poly(path)"
   ]
  },
  {
   "cell_type": "markdown",
   "metadata": {},
   "source": [
    "Translation in x-axis by 1:\n",
    "$$\n",
    "\\left(\\begin{array}{cc} \n",
    "x'\\\\ y'\\\\ 1\n",
    "\\end{array}\\right) =\n",
    "\\left(\\begin{array}{cc} \n",
    "1 & 0 & 1\\\\\n",
    "0 & 1 & 0\\\\\n",
    "0 & 0 & 1\n",
    "\\end{array}\\right)\n",
    "\\left(\\begin{array}{cc} \n",
    "x \\\\ y \\\\ 1\n",
    "\\end{array}\\right)\n",
    "$$"
   ]
  },
  {
   "cell_type": "code",
   "execution_count": null,
   "metadata": {},
   "outputs": [],
   "source": [
    "#a = ?\n",
    "dst = geometric_transformation(verts, a)\n",
    "path = Path(dst,codes)\n",
    "plot_poly(path)"
   ]
  },
  {
   "cell_type": "markdown",
   "metadata": {},
   "source": [
    "Translation in x-y plane by 1:\n",
    "$$\n",
    "\\left(\\begin{array}{cc} \n",
    "x'\\\\ y'\\\\ 1\n",
    "\\end{array}\\right) =\n",
    "\\left(\\begin{array}{cc} \n",
    "1 & 0 & 1\\\\\n",
    "0 & 1 & 1\\\\\n",
    "0 & 0 & 1\n",
    "\\end{array}\\right)\n",
    "\\left(\\begin{array}{cc} \n",
    "x \\\\ y \\\\ 1\n",
    "\\end{array}\\right)\n",
    "$$"
   ]
  },
  {
   "cell_type": "code",
   "execution_count": null,
   "metadata": {},
   "outputs": [],
   "source": [
    "#a = ?\n",
    "dst = geometric_transformation(verts, a)\n",
    "path = Path(dst,codes)\n",
    "plot_poly(path)"
   ]
  },
  {
   "cell_type": "markdown",
   "metadata": {},
   "source": [
    "Rotation by angle:\n",
    "$$\n",
    "\\left(\\begin{array}{cc} \n",
    "x'\\\\ y'\\\\ 1\n",
    "\\end{array}\\right) =\n",
    "\\left(\\begin{array}{cc} \n",
    "cos(pi/4) & -sin(pi/4) & 0\\\\\n",
    "sin(pi/4) & cos(pi/4) & 0\\\\\n",
    "0 & 0 & 1\n",
    "\\end{array}\\right)\n",
    "\\left(\\begin{array}{cc} \n",
    "x \\\\ y \\\\ 1\n",
    "\\end{array}\\right)\n",
    "$$"
   ]
  },
  {
   "cell_type": "code",
   "execution_count": null,
   "metadata": {},
   "outputs": [],
   "source": [
    "#a = ? use 'np.cos' 'np.pi'\n",
    "dst = geometric_transformation(verts, a)\n",
    "path = Path(dst,codes)\n",
    "plot_poly(path)"
   ]
  },
  {
   "cell_type": "markdown",
   "metadata": {},
   "source": [
    "Similarity transformation:\n",
    "$$\n",
    "\\left(\\begin{array}{cc} \n",
    "x'\\\\ y'\\\\ 1\n",
    "\\end{array}\\right) =\n",
    "\\left(\\begin{array}{cc} \n",
    "s*cos(pi/4) & -s*sin(pi/4) & 0\\\\\n",
    "s*sin(pi/4) & s*cos(pi/4) & 0\\\\\n",
    "0 & 0 & 1\n",
    "\\end{array}\\right)\n",
    "\\left(\\begin{array}{cc} \n",
    "x \\\\ y \\\\ 1\n",
    "\\end{array}\\right)\n",
    "$$"
   ]
  },
  {
   "cell_type": "code",
   "execution_count": null,
   "metadata": {},
   "outputs": [],
   "source": [
    "#a = ? use 'np.cos' 'np.pi'\n",
    "dst = geometric_transformation(verts, a)\n",
    "path = Path(dst,codes)\n",
    "plot_poly(path)"
   ]
  },
  {
   "cell_type": "markdown",
   "metadata": {},
   "source": [
    "Affine transformation:\n",
    "$$\n",
    "\\left(\\begin{array}{cc} \n",
    "x'\\\\ y'\\\\ 1\n",
    "\\end{array}\\right) =\n",
    "\\left(\\begin{array}{cc} \n",
    "a11 & a12 & tx\\\\\n",
    "a21 & a22 & ty\\\\\n",
    "0 & 0 & 1\n",
    "\\end{array}\\right)\n",
    "\\left(\\begin{array}{cc} \n",
    "x \\\\ y \\\\ 1\n",
    "\\end{array}\\right)\n",
    "$$"
   ]
  },
  {
   "cell_type": "code",
   "execution_count": null,
   "metadata": {},
   "outputs": [],
   "source": [
    "#a = ?\n",
    "dst = geometric_transformation(verts, a)\n",
    "path = Path(dst,codes)\n",
    "plot_poly(path)"
   ]
  },
  {
   "cell_type": "markdown",
   "metadata": {},
   "source": [
    "Projective transformation:\n",
    "$$\n",
    "\\left(\\begin{array}{cc} \n",
    "x'\\\\ y'\\\\ 1\n",
    "\\end{array}\\right) =\n",
    "\\left(\\begin{array}{cc} \n",
    "a11 & a12 & tx\\\\\n",
    "a21 & a22 & ty\\\\\n",
    "v1 & v2 & 1\n",
    "\\end{array}\\right)\n",
    "\\left(\\begin{array}{cc} \n",
    "x \\\\ y \\\\ 1\n",
    "\\end{array}\\right)\n",
    "$$"
   ]
  },
  {
   "cell_type": "code",
   "execution_count": null,
   "metadata": {},
   "outputs": [],
   "source": [
    "#a = ?\n",
    "dst = geometric_transformation(verts, a)\n",
    "path = Path(dst,codes)\n",
    "plot_poly(path)"
   ]
  },
  {
   "cell_type": "code",
   "execution_count": null,
   "metadata": {},
   "outputs": [],
   "source": [
    "print('The end!')"
   ]
  }
 ],
 "metadata": {
  "kernelspec": {
   "display_name": "Python 3",
   "language": "python",
   "name": "python3"
  },
  "language_info": {
   "codemirror_mode": {
    "name": "ipython",
    "version": 3
   },
   "file_extension": ".py",
   "mimetype": "text/x-python",
   "name": "python",
   "nbconvert_exporter": "python",
   "pygments_lexer": "ipython3",
   "version": "3.4.3"
  }
 },
 "nbformat": 4,
 "nbformat_minor": 2
}
