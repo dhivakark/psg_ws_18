{
 "cells": [
  {
   "cell_type": "markdown",
   "metadata": {
    "slideshow": {
     "slide_type": "slide"
    }
   },
   "source": [
    "# How does a machine learn?"
   ]
  },
  {
   "cell_type": "markdown",
   "metadata": {
    "slideshow": {
     "slide_type": "-"
    }
   },
   "source": [
    "![Machine learning](images/ml_comic3.png)"
   ]
  },
  {
   "cell_type": "markdown",
   "metadata": {
    "slideshow": {
     "slide_type": "skip"
    }
   },
   "source": [
    "https://github.com/Calysto/notebook-extensions\n",
    "https://github.com/damianavila/RISE"
   ]
  },
  {
   "cell_type": "markdown",
   "metadata": {
    "slideshow": {
     "slide_type": "slide"
    }
   },
   "source": [
    "## Scenario - Selling house"
   ]
  },
  {
   "cell_type": "markdown",
   "metadata": {
    "slideshow": {
     "slide_type": "-"
    }
   },
   "source": [
    "### You're planning to sell your 600 Sq Feet old house \n",
    "### Next step : Estimate up with a reasonable selling price \n",
    "### Okay, let's get some data of how other houses are sold in the same location"
   ]
  },
  {
   "cell_type": "markdown",
   "metadata": {
    "slideshow": {
     "slide_type": "skip"
    }
   },
   "source": [
    "###### Let's start by importing some libraries and examining the data."
   ]
  },
  {
   "cell_type": "code",
   "execution_count": 3,
   "metadata": {
    "slideshow": {
     "slide_type": "skip"
    }
   },
   "outputs": [],
   "source": [
    "import os\n",
    "import numpy as np\n",
    "import pandas as pd\n",
    "import matplotlib.pyplot as plt\n",
    "from IPython.display import clear_output\n",
    "from IPython.display import Image, YouTubeVideo\n",
    "from scipy.optimize import curve_fit\n",
    "import random\n",
    "import time\n",
    "import matplotlib\n",
    "import re\n",
    "%matplotlib inline"
   ]
  },
  {
   "cell_type": "markdown",
   "metadata": {
    "slideshow": {
     "slide_type": "skip"
    }
   },
   "source": [
    "### CSS Stuff :/"
   ]
  },
  {
   "cell_type": "code",
   "execution_count": 4,
   "metadata": {
    "slideshow": {
     "slide_type": "skip"
    }
   },
   "outputs": [],
   "source": [
    "font = {'family' : \"DejaVu Sans\",\n",
    "        'weight' : 'normal',\n",
    "        'size'   : 25}\n",
    "\n",
    "matplotlib.rc('font', **font)\n",
    "\n",
    "def bigger_table(val):\n",
    "    \"\"\"\n",
    "    bigger fonts for the table\n",
    "    \"\"\"\n",
    "    size = 'x-large'\n",
    "    #color =  'black' if re.match(\"^\\d+?\\.\\d+?$\", val) else 'red'\n",
    "    return 'font-size: %s' % size"
   ]
  },
  {
   "cell_type": "markdown",
   "metadata": {
    "slideshow": {
     "slide_type": "slide"
    }
   },
   "source": [
    "### Here is the table of data which you've collected"
   ]
  },
  {
   "cell_type": "code",
   "execution_count": 5,
   "metadata": {
    "format": "tab",
    "slideshow": {
     "slide_type": "-"
    }
   },
   "outputs": [
    {
     "ename": "FileNotFoundError",
     "evalue": "File b'data/house_price_list1.txt' does not exist",
     "output_type": "error",
     "traceback": [
      "\u001b[0;31m---------------------------------------------------------------------------\u001b[0m",
      "\u001b[0;31mFileNotFoundError\u001b[0m                         Traceback (most recent call last)",
      "\u001b[0;32m<ipython-input-5-d8b7d06f711b>\u001b[0m in \u001b[0;36m<module>\u001b[0;34m()\u001b[0m\n\u001b[1;32m      1\u001b[0m \u001b[0mpath\u001b[0m \u001b[0;34m=\u001b[0m \u001b[0;34m'data/house_price_list1.txt'\u001b[0m\u001b[0;34m\u001b[0m\u001b[0m\n\u001b[0;32m----> 2\u001b[0;31m \u001b[0mhouse_price_data_1\u001b[0m \u001b[0;34m=\u001b[0m \u001b[0mpd\u001b[0m\u001b[0;34m.\u001b[0m\u001b[0mread_csv\u001b[0m\u001b[0;34m(\u001b[0m\u001b[0mpath\u001b[0m\u001b[0;34m,\u001b[0m \u001b[0mheader\u001b[0m\u001b[0;34m=\u001b[0m\u001b[0;32mNone\u001b[0m\u001b[0;34m,\u001b[0m \u001b[0mnames\u001b[0m\u001b[0;34m=\u001b[0m\u001b[0;34m[\u001b[0m\u001b[0;34m'Area'\u001b[0m\u001b[0;34m,\u001b[0m \u001b[0;34m'Price'\u001b[0m\u001b[0;34m]\u001b[0m\u001b[0;34m)\u001b[0m\u001b[0;34m\u001b[0m\u001b[0m\n\u001b[0m\u001b[1;32m      3\u001b[0m \u001b[0;34m(\u001b[0m\u001b[0mpd\u001b[0m\u001b[0;34m.\u001b[0m\u001b[0mDataFrame\u001b[0m\u001b[0;34m(\u001b[0m\u001b[0;34m[\u001b[0m\u001b[0;34m[\u001b[0m\u001b[0;34m'Area (Sq. Feet)'\u001b[0m\u001b[0;34m,\u001b[0m \u001b[0;34m'Price (INR)'\u001b[0m\u001b[0;34m]\u001b[0m\u001b[0;34m]\u001b[0m\u001b[0;34m,\u001b[0m \u001b[0mcolumns\u001b[0m\u001b[0;34m=\u001b[0m\u001b[0;34m[\u001b[0m\u001b[0;34m'Area'\u001b[0m\u001b[0;34m,\u001b[0m \u001b[0;34m'Price'\u001b[0m\u001b[0;34m]\u001b[0m\u001b[0;34m)\u001b[0m\u001b[0;34m.\u001b[0m\u001b[0mappend\u001b[0m\u001b[0;34m(\u001b[0m\u001b[0mhouse_price_data_1\u001b[0m\u001b[0;34m)\u001b[0m\u001b[0;34m.\u001b[0m \u001b[0mreset_index\u001b[0m\u001b[0;34m(\u001b[0m\u001b[0mdrop\u001b[0m\u001b[0;34m=\u001b[0m\u001b[0;32mTrue\u001b[0m\u001b[0;34m)\u001b[0m\u001b[0;34m)\u001b[0m\u001b[0;34m.\u001b[0m\u001b[0mstyle\u001b[0m\u001b[0;34m.\u001b[0m\u001b[0mapplymap\u001b[0m\u001b[0;34m(\u001b[0m\u001b[0mbigger_table\u001b[0m\u001b[0;34m)\u001b[0m\u001b[0;34m\u001b[0m\u001b[0m\n",
      "\u001b[0;32m~/psg_ws_cv/cv_env/lib/python3.4/site-packages/pandas/io/parsers.py\u001b[0m in \u001b[0;36mparser_f\u001b[0;34m(filepath_or_buffer, sep, delimiter, header, names, index_col, usecols, squeeze, prefix, mangle_dupe_cols, dtype, engine, converters, true_values, false_values, skipinitialspace, skiprows, nrows, na_values, keep_default_na, na_filter, verbose, skip_blank_lines, parse_dates, infer_datetime_format, keep_date_col, date_parser, dayfirst, iterator, chunksize, compression, thousands, decimal, lineterminator, quotechar, quoting, escapechar, comment, encoding, dialect, tupleize_cols, error_bad_lines, warn_bad_lines, skipfooter, skip_footer, doublequote, delim_whitespace, as_recarray, compact_ints, use_unsigned, low_memory, buffer_lines, memory_map, float_precision)\u001b[0m\n\u001b[1;32m    707\u001b[0m                     skip_blank_lines=skip_blank_lines)\n\u001b[1;32m    708\u001b[0m \u001b[0;34m\u001b[0m\u001b[0m\n\u001b[0;32m--> 709\u001b[0;31m         \u001b[0;32mreturn\u001b[0m \u001b[0m_read\u001b[0m\u001b[0;34m(\u001b[0m\u001b[0mfilepath_or_buffer\u001b[0m\u001b[0;34m,\u001b[0m \u001b[0mkwds\u001b[0m\u001b[0;34m)\u001b[0m\u001b[0;34m\u001b[0m\u001b[0m\n\u001b[0m\u001b[1;32m    710\u001b[0m \u001b[0;34m\u001b[0m\u001b[0m\n\u001b[1;32m    711\u001b[0m     \u001b[0mparser_f\u001b[0m\u001b[0;34m.\u001b[0m\u001b[0m__name__\u001b[0m \u001b[0;34m=\u001b[0m \u001b[0mname\u001b[0m\u001b[0;34m\u001b[0m\u001b[0m\n",
      "\u001b[0;32m~/psg_ws_cv/cv_env/lib/python3.4/site-packages/pandas/io/parsers.py\u001b[0m in \u001b[0;36m_read\u001b[0;34m(filepath_or_buffer, kwds)\u001b[0m\n\u001b[1;32m    447\u001b[0m \u001b[0;34m\u001b[0m\u001b[0m\n\u001b[1;32m    448\u001b[0m     \u001b[0;31m# Create the parser.\u001b[0m\u001b[0;34m\u001b[0m\u001b[0;34m\u001b[0m\u001b[0m\n\u001b[0;32m--> 449\u001b[0;31m     \u001b[0mparser\u001b[0m \u001b[0;34m=\u001b[0m \u001b[0mTextFileReader\u001b[0m\u001b[0;34m(\u001b[0m\u001b[0mfilepath_or_buffer\u001b[0m\u001b[0;34m,\u001b[0m \u001b[0;34m**\u001b[0m\u001b[0mkwds\u001b[0m\u001b[0;34m)\u001b[0m\u001b[0;34m\u001b[0m\u001b[0m\n\u001b[0m\u001b[1;32m    450\u001b[0m \u001b[0;34m\u001b[0m\u001b[0m\n\u001b[1;32m    451\u001b[0m     \u001b[0;32mif\u001b[0m \u001b[0mchunksize\u001b[0m \u001b[0;32mor\u001b[0m \u001b[0miterator\u001b[0m\u001b[0;34m:\u001b[0m\u001b[0;34m\u001b[0m\u001b[0m\n",
      "\u001b[0;32m~/psg_ws_cv/cv_env/lib/python3.4/site-packages/pandas/io/parsers.py\u001b[0m in \u001b[0;36m__init__\u001b[0;34m(self, f, engine, **kwds)\u001b[0m\n\u001b[1;32m    816\u001b[0m             \u001b[0mself\u001b[0m\u001b[0;34m.\u001b[0m\u001b[0moptions\u001b[0m\u001b[0;34m[\u001b[0m\u001b[0;34m'has_index_names'\u001b[0m\u001b[0;34m]\u001b[0m \u001b[0;34m=\u001b[0m \u001b[0mkwds\u001b[0m\u001b[0;34m[\u001b[0m\u001b[0;34m'has_index_names'\u001b[0m\u001b[0;34m]\u001b[0m\u001b[0;34m\u001b[0m\u001b[0m\n\u001b[1;32m    817\u001b[0m \u001b[0;34m\u001b[0m\u001b[0m\n\u001b[0;32m--> 818\u001b[0;31m         \u001b[0mself\u001b[0m\u001b[0;34m.\u001b[0m\u001b[0m_make_engine\u001b[0m\u001b[0;34m(\u001b[0m\u001b[0mself\u001b[0m\u001b[0;34m.\u001b[0m\u001b[0mengine\u001b[0m\u001b[0;34m)\u001b[0m\u001b[0;34m\u001b[0m\u001b[0m\n\u001b[0m\u001b[1;32m    819\u001b[0m \u001b[0;34m\u001b[0m\u001b[0m\n\u001b[1;32m    820\u001b[0m     \u001b[0;32mdef\u001b[0m \u001b[0mclose\u001b[0m\u001b[0;34m(\u001b[0m\u001b[0mself\u001b[0m\u001b[0;34m)\u001b[0m\u001b[0;34m:\u001b[0m\u001b[0;34m\u001b[0m\u001b[0m\n",
      "\u001b[0;32m~/psg_ws_cv/cv_env/lib/python3.4/site-packages/pandas/io/parsers.py\u001b[0m in \u001b[0;36m_make_engine\u001b[0;34m(self, engine)\u001b[0m\n\u001b[1;32m   1047\u001b[0m     \u001b[0;32mdef\u001b[0m \u001b[0m_make_engine\u001b[0m\u001b[0;34m(\u001b[0m\u001b[0mself\u001b[0m\u001b[0;34m,\u001b[0m \u001b[0mengine\u001b[0m\u001b[0;34m=\u001b[0m\u001b[0;34m'c'\u001b[0m\u001b[0;34m)\u001b[0m\u001b[0;34m:\u001b[0m\u001b[0;34m\u001b[0m\u001b[0m\n\u001b[1;32m   1048\u001b[0m         \u001b[0;32mif\u001b[0m \u001b[0mengine\u001b[0m \u001b[0;34m==\u001b[0m \u001b[0;34m'c'\u001b[0m\u001b[0;34m:\u001b[0m\u001b[0;34m\u001b[0m\u001b[0m\n\u001b[0;32m-> 1049\u001b[0;31m             \u001b[0mself\u001b[0m\u001b[0;34m.\u001b[0m\u001b[0m_engine\u001b[0m \u001b[0;34m=\u001b[0m \u001b[0mCParserWrapper\u001b[0m\u001b[0;34m(\u001b[0m\u001b[0mself\u001b[0m\u001b[0;34m.\u001b[0m\u001b[0mf\u001b[0m\u001b[0;34m,\u001b[0m \u001b[0;34m**\u001b[0m\u001b[0mself\u001b[0m\u001b[0;34m.\u001b[0m\u001b[0moptions\u001b[0m\u001b[0;34m)\u001b[0m\u001b[0;34m\u001b[0m\u001b[0m\n\u001b[0m\u001b[1;32m   1050\u001b[0m         \u001b[0;32melse\u001b[0m\u001b[0;34m:\u001b[0m\u001b[0;34m\u001b[0m\u001b[0m\n\u001b[1;32m   1051\u001b[0m             \u001b[0;32mif\u001b[0m \u001b[0mengine\u001b[0m \u001b[0;34m==\u001b[0m \u001b[0;34m'python'\u001b[0m\u001b[0;34m:\u001b[0m\u001b[0;34m\u001b[0m\u001b[0m\n",
      "\u001b[0;32m~/psg_ws_cv/cv_env/lib/python3.4/site-packages/pandas/io/parsers.py\u001b[0m in \u001b[0;36m__init__\u001b[0;34m(self, src, **kwds)\u001b[0m\n\u001b[1;32m   1693\u001b[0m         \u001b[0mkwds\u001b[0m\u001b[0;34m[\u001b[0m\u001b[0;34m'allow_leading_cols'\u001b[0m\u001b[0;34m]\u001b[0m \u001b[0;34m=\u001b[0m \u001b[0mself\u001b[0m\u001b[0;34m.\u001b[0m\u001b[0mindex_col\u001b[0m \u001b[0;32mis\u001b[0m \u001b[0;32mnot\u001b[0m \u001b[0;32mFalse\u001b[0m\u001b[0;34m\u001b[0m\u001b[0m\n\u001b[1;32m   1694\u001b[0m \u001b[0;34m\u001b[0m\u001b[0m\n\u001b[0;32m-> 1695\u001b[0;31m         \u001b[0mself\u001b[0m\u001b[0;34m.\u001b[0m\u001b[0m_reader\u001b[0m \u001b[0;34m=\u001b[0m \u001b[0mparsers\u001b[0m\u001b[0;34m.\u001b[0m\u001b[0mTextReader\u001b[0m\u001b[0;34m(\u001b[0m\u001b[0msrc\u001b[0m\u001b[0;34m,\u001b[0m \u001b[0;34m**\u001b[0m\u001b[0mkwds\u001b[0m\u001b[0;34m)\u001b[0m\u001b[0;34m\u001b[0m\u001b[0m\n\u001b[0m\u001b[1;32m   1696\u001b[0m \u001b[0;34m\u001b[0m\u001b[0m\n\u001b[1;32m   1697\u001b[0m         \u001b[0;31m# XXX\u001b[0m\u001b[0;34m\u001b[0m\u001b[0;34m\u001b[0m\u001b[0m\n",
      "\u001b[0;32mpandas/_libs/parsers.pyx\u001b[0m in \u001b[0;36mpandas._libs.parsers.TextReader.__cinit__\u001b[0;34m()\u001b[0m\n",
      "\u001b[0;32mpandas/_libs/parsers.pyx\u001b[0m in \u001b[0;36mpandas._libs.parsers.TextReader._setup_parser_source\u001b[0;34m()\u001b[0m\n",
      "\u001b[0;31mFileNotFoundError\u001b[0m: File b'data/house_price_list1.txt' does not exist"
     ]
    }
   ],
   "source": [
    "path = 'data/house_price_list1.txt'\n",
    "house_price_data_1 = pd.read_csv(path, header=None, names=['Area', 'Price'])\n",
    "(pd.DataFrame([['Area (Sq. Feet)', 'Price (INR)']], columns=['Area', 'Price']).append(house_price_data_1).\\\n",
    " reset_index(drop=True)).style.applymap(bigger_table)\n"
   ]
  },
  {
   "cell_type": "markdown",
   "metadata": {
    "slideshow": {
     "slide_type": "fragment"
    }
   },
   "source": [
    "### Can you estimate the price of your house (600 Sq Feet) from this data?"
   ]
  },
  {
   "cell_type": "markdown",
   "metadata": {
    "slideshow": {
     "slide_type": "slide"
    }
   },
   "source": [
    "### Approach 1 - Calculate the price per square feet of each house"
   ]
  },
  {
   "cell_type": "code",
   "execution_count": null,
   "metadata": {
    "format": "tab",
    "scrolled": true,
    "slideshow": {
     "slide_type": "fragment"
    }
   },
   "outputs": [],
   "source": [
    "house_price_data_1['Unit Price'] = house_price_data_1.Price / house_price_data_1.Area\n",
    "#house_price_data_1.head().style.applymap(bigger_table)\n",
    "\n",
    "(pd.DataFrame([['Area (Sq. Feet)', 'Price (INR)', 'Unit Price (Rs per Sq. Feet)']], columns=['Area', 'Price','Unit Price'])\\\n",
    " .append(house_price_data_1). reset_index(drop=True)).head(6).style.applymap(bigger_table)"
   ]
  },
  {
   "cell_type": "markdown",
   "metadata": {
    "slideshow": {
     "slide_type": "slide"
    }
   },
   "source": [
    "### Approach 2 - Use highschool maths"
   ]
  },
  {
   "cell_type": "code",
   "execution_count": null,
   "metadata": {
    "format": "tab",
    "scrolled": false,
    "slideshow": {
     "slide_type": "fragment"
    }
   },
   "outputs": [],
   "source": [
    "fig = plt.figure(figsize=(8, 6))\n",
    "plt.scatter(x = house_price_data_1['Area'], y = house_price_data_1['Price'], s=180, color='red')\n",
    "plt.title('Area Vs Cost')\n",
    "plt.xlabel(\"Area (Sq Feet)\")\n",
    "plt.ylabel(\"Price in ₹\")\n",
    "plt.show()"
   ]
  },
  {
   "cell_type": "markdown",
   "metadata": {
    "slideshow": {
     "slide_type": "fragment"
    }
   },
   "source": [
    "### What next?"
   ]
  },
  {
   "cell_type": "markdown",
   "metadata": {
    "slideshow": {
     "slide_type": "slide"
    }
   },
   "source": [
    "### See if you can draw a straight line through all the data points !"
   ]
  },
  {
   "cell_type": "markdown",
   "metadata": {
    "slideshow": {
     "slide_type": "fragment"
    }
   },
   "source": [
    "### How will you define that line?"
   ]
  },
  {
   "cell_type": "markdown",
   "metadata": {
    "slideshow": {
     "slide_type": "fragment"
    }
   },
   "source": [
    "#### Equation of a 2D line: \n",
    "### y = m * x + b\n",
    "- m --> Slope\n",
    "- b --> Y-intercept"
   ]
  },
  {
   "cell_type": "markdown",
   "metadata": {
    "slideshow": {
     "slide_type": "slide"
    }
   },
   "source": [
    "### How do we find the slope of a given line? - Recall highschool math"
   ]
  },
  {
   "cell_type": "markdown",
   "metadata": {
    "slideshow": {
     "slide_type": "fragment"
    }
   },
   "source": [
    "<img src=\"images/slope.gif\" alt=\"Drawing\" style=\"width: 600px;\"/>"
   ]
  },
  {
   "cell_type": "markdown",
   "metadata": {
    "slideshow": {
     "slide_type": "slide"
    }
   },
   "source": [
    "### Once you find the slope of the line , you can draw the line and use it as a reference to predict the value of any house in your area"
   ]
  },
  {
   "cell_type": "code",
   "execution_count": null,
   "metadata": {
    "format": "tab",
    "slideshow": {
     "slide_type": "-"
    }
   },
   "outputs": [],
   "source": [
    "font = {'family' : \"DejaVu Sans\",\n",
    "        'weight' : 'normal',\n",
    "        'size'   : 20}\n",
    "\n",
    "matplotlib.rc('font', **font)\n",
    "\n",
    "\n",
    "\n",
    "fig = plt.figure(figsize=(8, 6))\n",
    "plt.scatter(x = house_price_data_1['Area'], y = house_price_data_1['Price'], s=280, color='red')\n",
    "plt.scatter(x = [600], y = [3000000], s=300)\n",
    "plt.plot(list(map(lambda x: x*5000,range(1200))), color = 'green', marker ='.')\n",
    "plt.axvline(x=600)\n",
    "plt.axhline(y=3000000)\n",
    "plt.title('Area Vs Price')\n",
    "plt.xlabel(\"Area (Sq Feet)\")\n",
    "plt.ylabel(\"Price in ₹\")\n",
    "plt.locator_params(numticks=12)\n",
    "plt.show()\n",
    "\n",
    "\n",
    "font = {'family' : \"DejaVu Sans\",\n",
    "        'weight' : 'normal',\n",
    "        'size'   : 25}\n",
    "\n",
    "matplotlib.rc('font', **font)\n",
    "#font size"
   ]
  },
  {
   "cell_type": "markdown",
   "metadata": {
    "collapsed": true,
    "slideshow": {
     "slide_type": "slide"
    }
   },
   "source": [
    "### Successfully you've estimated and sold your old house, selling was so easy ! Congratulations !"
   ]
  },
  {
   "cell_type": "markdown",
   "metadata": {
    "slideshow": {
     "slide_type": "slide"
    }
   },
   "source": [
    "## Scenario 2\n",
    "### Oh boy!  I need to buy a new house"
   ]
  },
  {
   "cell_type": "markdown",
   "metadata": {
    "slideshow": {
     "slide_type": "fragment"
    }
   },
   "source": [
    "### A bigger one ;) and close to a beach"
   ]
  },
  {
   "cell_type": "markdown",
   "metadata": {
    "slideshow": {
     "slide_type": "fragment"
    }
   },
   "source": [
    "### Well, house prices are different near the beach, let's collect some data again! \n",
    "### Use some more math! and predict how much it would cost me"
   ]
  },
  {
   "cell_type": "markdown",
   "metadata": {
    "slideshow": {
     "slide_type": "slide"
    }
   },
   "source": [
    "### Data is here!"
   ]
  },
  {
   "cell_type": "code",
   "execution_count": null,
   "metadata": {
    "format": "tab",
    "scrolled": false,
    "slideshow": {
     "slide_type": "-"
    }
   },
   "outputs": [],
   "source": [
    "path = 'data/house_price_list2.txt'\n",
    "house_price_data_2 = pd.read_csv(path, header=None, names=['Area', 'Price'])\n",
    "\n",
    "\n",
    "(pd.DataFrame([['Area (Sq. Feet)', 'Price (INR)']], columns=['Area', 'Price'])\\\n",
    " .append(house_price_data_2). reset_index(drop=True)).head(15).style.applymap(bigger_table)"
   ]
  },
  {
   "cell_type": "markdown",
   "metadata": {
    "collapsed": true,
    "format": "tab",
    "slideshow": {
     "slide_type": "slide"
    }
   },
   "source": [
    "### Let's visualize"
   ]
  },
  {
   "cell_type": "code",
   "execution_count": null,
   "metadata": {
    "format": "tab",
    "slideshow": {
     "slide_type": "-"
    }
   },
   "outputs": [],
   "source": [
    "fig = plt.figure(figsize=(7, 8))\n",
    "plt.scatter(x = house_price_data_2['Area'], y = house_price_data_2['Price'], s=80, color='red')\n",
    "plt.title('Area Vs Cost')\n",
    "plt.xlabel(\"Area (Sq Feet)\")\n",
    "plt.ylabel(\"Price in ₹\")\n",
    "plt.show()"
   ]
  },
  {
   "cell_type": "markdown",
   "metadata": {
    "collapsed": true,
    "format": "tab",
    "slideshow": {
     "slide_type": "fragment"
    }
   },
   "source": [
    "### Wooooohh  , draw a straight line through these points?\n"
   ]
  },
  {
   "cell_type": "markdown",
   "metadata": {
    "slideshow": {
     "slide_type": "slide"
    }
   },
   "source": [
    "### Let's draw some lines and see how it looks"
   ]
  },
  {
   "cell_type": "code",
   "execution_count": null,
   "metadata": {
    "format": "tab",
    "scrolled": false,
    "slideshow": {
     "slide_type": "-"
    }
   },
   "outputs": [],
   "source": [
    "fig = plt.figure(figsize=(7, 8))\n",
    "plt.scatter(x = house_price_data_2['Area'], y = house_price_data_2['Price'], s=80, color='red')\n",
    "m,b = 150, 0\n",
    "plt.plot(list(map(lambda x: x*m+b,range(5000))), color = 'red')\n",
    "m,b = 70, 100000\n",
    "plt.plot(list(map(lambda x: x*m+b,range(5000))), color = 'green')\n",
    "m,b = -150, 1000000\n",
    "plt.plot(list(map(lambda x: x*m+b,range(5000))), color = 'blue')\n",
    "plt.title('Area Vs Cost')\n",
    "plt.xlabel(\"Area (Sq Feet)\")\n",
    "plt.ylabel(\"Price in ₹\")\n",
    "plt.show()"
   ]
  },
  {
   "cell_type": "markdown",
   "metadata": {
    "slideshow": {
     "slide_type": "-"
    }
   },
   "source": [
    "### Interesting! Which one do you think will help in your cause?"
   ]
  },
  {
   "cell_type": "markdown",
   "metadata": {
    "slideshow": {
     "slide_type": "slide"
    }
   },
   "source": [
    "### Why is the red line better? \n",
    "### How good is it than the other two lines? Quantify?"
   ]
  },
  {
   "cell_type": "markdown",
   "metadata": {
    "slideshow": {
     "slide_type": "fragment"
    }
   },
   "source": [
    "### Little more math - Mean Square Error\n",
    "\n",
    "![Machine learning](images/MSE.gif)"
   ]
  },
  {
   "cell_type": "code",
   "execution_count": null,
   "metadata": {
    "slideshow": {
     "slide_type": "skip"
    }
   },
   "outputs": [],
   "source": [
    "def mean_square_error(slope, offset, x_values, y_values):\n",
    "    mse = 0\n",
    "    for x,y in zip(x_values, y_values):\n",
    "        mse += ((y - (slope*x + offset))*(y - (slope*x + offset)))\n",
    "    mse/=len(x_values)\n",
    "    return mse\n",
    "\n",
    "def plot_and_return_mse(slope, offset, x_values, y_values, color='red', size=80,\n",
    "                        x_limit = 5000, y_limit = 770000, title = 'Area Vs Cost'):\n",
    "    matplotlib.rc('font', **font)\n",
    "    fig = plt.figure(figsize=(18, 10))\n",
    "\n",
    "    plt.scatter(x = x_values, y = y_values, s=size, color=color)\n",
    "    plt.xlim(0, x_limit)\n",
    "    plt.ylim(0, y_limit)\n",
    "    plt.title(title)\n",
    "    plt.xlabel(\"Area (Sq Feet)\")\n",
    "    plt.ylabel(\"Price in ₹\")\n",
    "\n",
    "    m,b = slope, offset\n",
    "    plt.plot(list(map(lambda x: x*m+b,range(x_limit))), color = 'red')\n",
    "    for area,price in zip(list(house_price_data_2['Area']), list(house_price_data_2['Price'])):\n",
    "        plt.axvline(x=area, ymin=min(price,area*m+b)/y_limit, ymax=max(price,area*m+b)/y_limit)\n",
    "    clear_output()\n",
    "    plt.show()\n",
    "    return (mean_square_error(m,b, x_values, y_values))"
   ]
  },
  {
   "cell_type": "markdown",
   "metadata": {
    "slideshow": {
     "slide_type": "slide"
    }
   },
   "source": [
    "<img src=\"images/MSE.gif\" alt=\"Drawing\" style=\"width: 300px;\"/>\n",
    "\n",
    "<h1> Understanding MSE with our Red and Green Lines </h1>"
   ]
  },
  {
   "cell_type": "code",
   "execution_count": null,
   "metadata": {
    "format": "tab",
    "scrolled": false,
    "slideshow": {
     "slide_type": "-"
    }
   },
   "outputs": [],
   "source": [
    "fig = plt.figure(figsize=(22, 10))\n",
    "\n",
    "plt.subplot(121)\n",
    "\n",
    "plt.scatter(x = house_price_data_2['Area'], y = house_price_data_2['Price'], s=80, color='red')\n",
    "x_limit = 5000\n",
    "y_limit = 770000\n",
    "plt.xlim(0, x_limit)\n",
    "plt.ylim(0, y_limit)\n",
    "\n",
    "m,b = 150, 0\n",
    "plt.plot(list(map(lambda x: x*m+b,range(x_limit))), color = 'red')\n",
    "for area,price in zip(list(house_price_data_2['Area']), list(house_price_data_2['Price'])):\n",
    "    plt.axvline(x=area, ymin=min(price,area*m+b)/y_limit, ymax=max(price,area*m+b)/y_limit)\n",
    "    plt.plot([area],[area*m+b],marker='o', color='blue')\n",
    "    \n",
    "red_mse = mean_square_error(m,b, list(house_price_data_2['Area']), list(house_price_data_2['Price']))\n",
    "    \n",
    "\n",
    "plt.title('Area Vs Cost - Red Line - m=%s, b=%s'%(m,b))\n",
    "plt.xlabel(\"Area (Sq Feet)\")\n",
    "plt.ylabel(\"Price in ₹\")\n",
    "\n",
    "\n",
    "plt.subplot(122)\n",
    "plt.scatter(x = house_price_data_2['Area'], y = house_price_data_2['Price'], s=80, color='red')\n",
    "x_limit = 5000\n",
    "y_limit = 770000\n",
    "plt.xlim(0, x_limit)\n",
    "plt.ylim(0, y_limit)\n",
    "\n",
    "m,b = 70, 0\n",
    "plt.plot(list(map(lambda x: x*m+b,range(x_limit))), color = 'green')\n",
    "for area,price in zip(list(house_price_data_2['Area']), list(house_price_data_2['Price'])):\n",
    "    plt.axvline(x=area, ymin=min(price,area*m+b)/y_limit, ymax=max(price,area*m+b)/y_limit)\n",
    "    plt.plot([area],[area*m+b],marker='o', color='blue')\n",
    "\n",
    "green_mse = mean_square_error(m,b, list(house_price_data_2['Area']), list(house_price_data_2['Price']))\n",
    "\n",
    "plt.title('Area Vs Cost - Green Line - m=%s, b=%s'%(m,b))\n",
    "plt.xlabel(\"Area (Sq Feet)\")\n",
    "plt.ylabel(\"Price in ₹\")\n",
    "\n",
    "plt.show()\n",
    "\n",
    "\n",
    "print ('Red-Line\\'s Mean Square Error \\t= %s'%red_mse)\n",
    "print ('Green-Line\\'s Mean Square Error \\t= %s'%green_mse)"
   ]
  },
  {
   "cell_type": "markdown",
   "metadata": {
    "slideshow": {
     "slide_type": "slide"
    }
   },
   "source": [
    "### Okay great! I can use this metric to pick the best line\n",
    "### Only thing I've to do now is to find the line with least possible MSE"
   ]
  },
  {
   "cell_type": "markdown",
   "metadata": {
    "slideshow": {
     "slide_type": "slide"
    }
   },
   "source": [
    "### So, how do I find the line with least MSE?"
   ]
  },
  {
   "cell_type": "markdown",
   "metadata": {
    "slideshow": {
     "slide_type": "slide"
    }
   },
   "source": [
    "### Approach 1 : Try random 'm' and 'b' values, and pick the ones giving lowest MSE"
   ]
  },
  {
   "cell_type": "code",
   "execution_count": null,
   "metadata": {
    "format": "tab",
    "scrolled": false,
    "slideshow": {
     "slide_type": "fragment"
    }
   },
   "outputs": [],
   "source": [
    "no_of_iterations = 100\n",
    "delay = 0\n",
    "history = {}\n",
    "#add comments\n",
    "for iteration in range(no_of_iterations):\n",
    "    m = random.randint(-200,200)\n",
    "    b = random.randint(0,1000000)\n",
    "    mse = plot_and_return_mse(m, b, house_price_data_2['Area'], house_price_data_2['Price'], color='red', size=80,\n",
    "                        x_limit = 5000, y_limit = 770000, title = 'Area Vs Cost - m=%s, b=%s'%(m,b))\n",
    "    history[mse] = (m,b)\n",
    "    time.sleep(delay)\n",
    "    \n",
    "#plotting best line\n",
    "mse = sorted(history.keys())[0]\n",
    "m,b = history[mse]\n",
    "mse = plot_and_return_mse(m, b, house_price_data_2['Area'], house_price_data_2['Price'], color='red', size=80,\n",
    "                        x_limit = 5000, y_limit = 770000, title = 'Area Vs Cost - m=%s, b=%s'%(m,b))\n",
    "\n",
    "#Print the lines in ascending order od MSE\n",
    "results = pd.DataFrame()\n",
    "\n",
    "for mse,variables in sorted(history.items()):\n",
    "    m,b = variables\n",
    "    results = results.append({'m': m, 'b': b, 'mse': mse}, ignore_index=True)\n",
    "\n",
    "(pd.DataFrame([['m (Slope)', 'b (Y-intercept)', 'MSE (Mean Squared Error)']], columns=['m', 'b', 'mse'])\\\n",
    " .append(results). reset_index(drop=True)).head(15).style.applymap(bigger_table)"
   ]
  },
  {
   "cell_type": "markdown",
   "metadata": {
    "slideshow": {
     "slide_type": "slide"
    }
   },
   "source": [
    "### Approach 2 : Try all possible combinations of  'm' and 'b' values, and pick the ones giving lowest MSE\n",
    "### Wow that's lot of work, so let's fix 'b = 0' and try different m values from 0 to 300"
   ]
  },
  {
   "cell_type": "code",
   "execution_count": null,
   "metadata": {
    "format": "tab",
    "scrolled": false,
    "slideshow": {
     "slide_type": "-"
    }
   },
   "outputs": [],
   "source": [
    "history = {}\n",
    "delay = 1\n",
    "m_range = list(range(0,300,20))\n",
    "\n",
    "for m in m_range:\n",
    "    mse = plot_and_return_mse(m, 0, house_price_data_2['Area'], house_price_data_2['Price'], color='red', size=80,\n",
    "                        x_limit = 5000, y_limit = 770000, title = 'Area Vs Cost - m=%s, b=%s'%(m,b))\n",
    "    history[mse] = (m,0)\n",
    "    time.sleep(delay)\n",
    "    \n",
    "#plotting best line\n",
    "mse = sorted(history.keys())[0]\n",
    "m,c = history[mse]\n",
    "mse = plot_and_return_mse(m, c, house_price_data_2['Area'], house_price_data_2['Price'], color='red', size=80,\n",
    "                        x_limit = 5000, y_limit = 770000, title = 'Area Vs Cost - m=%s, c=%s'%(m,c))\n",
    "\n",
    "#Print the lines in ascending order od MSE\n",
    "results = pd.DataFrame()\n",
    "\n",
    "for mse,variables in sorted(history.items()):\n",
    "    m,c = variables\n",
    "    results = results.append({'m': m, 'b': c, 'mse': mse}, ignore_index=True)\n",
    "    #print ('for a line with m = %s\\t and c = %s\\t MSE is %s'%(m,c,mse))\n",
    "\n",
    "(pd.DataFrame([['m (Slope)', 'b (Y-intercept)', 'MSE (Mean Squared Error)']], columns=['m', 'b', 'mse'])\\\n",
    " .append(results). reset_index(drop=True)).head(11).style.applymap(bigger_table)"
   ]
  },
  {
   "cell_type": "markdown",
   "metadata": {
    "slideshow": {
     "slide_type": "slide"
    }
   },
   "source": [
    "### Let's visualize the results of Approach 2"
   ]
  },
  {
   "cell_type": "code",
   "execution_count": null,
   "metadata": {
    "format": "tab",
    "scrolled": false,
    "slideshow": {
     "slide_type": "-"
    }
   },
   "outputs": [],
   "source": [
    "fig = plt.figure(figsize=(7, 8))\n",
    "plt.scatter(x = results['m'], y = results['mse'], s=80, color='red')\n",
    "plt.title('m(Slope) Vs MSE for b = 0')\n",
    "plt.xlabel(\"m (Slope)\")\n",
    "plt.ylabel(\"MSE\")\n",
    "plt.show()"
   ]
  },
  {
   "cell_type": "markdown",
   "metadata": {
    "slideshow": {
     "slide_type": "slide"
    }
   },
   "source": [
    "### We visualized the result as a 2-D curve as we fixed b=0\n",
    "### When b is also considered we will get a 3-D surface\n",
    "### The 2-D curve which we got a cross section of the 3-D surface at b = 0"
   ]
  },
  {
   "cell_type": "code",
   "execution_count": null,
   "metadata": {
    "format": "tab",
    "scrolled": false,
    "slideshow": {
     "slide_type": "fragment"
    }
   },
   "outputs": [],
   "source": [
    "import numpy as np\n",
    "from mpl_toolkits.mplot3d import Axes3D\n",
    "import matplotlib.pyplot as plt\n",
    "from scipy.spatial import ConvexHull  \n",
    "\n",
    "fig = plt.figure(figsize=(10, 10))\n",
    "ax = fig.add_subplot(111, projection='3d')\n",
    "\n",
    "points = []\n",
    "\n",
    "for m,b,mse in zip(results['m'], results['b'], results['mse']):\n",
    "    plt.plot([m], [b], [mse], 'r-')\n",
    "    points.append([m, b, mse])\n",
    "\n",
    "\n",
    "\n",
    "ax.plot(*zip(*points),'bo') \n",
    "\n",
    "ax.set_xlabel('m (Slope)', labelpad=15)\n",
    "ax.set_ylabel('b (Y-Intercept)', labelpad=15)\n",
    "ax.set_zlabel('MSE', labelpad=15)\n",
    "\n",
    "\n",
    "plt.show()"
   ]
  },
  {
   "cell_type": "markdown",
   "metadata": {
    "slideshow": {
     "slide_type": "slide"
    }
   },
   "source": [
    "### Let's iterate over both m and b and get the entire 3-D surface"
   ]
  },
  {
   "cell_type": "code",
   "execution_count": null,
   "metadata": {
    "format": "tab",
    "scrolled": false,
    "slideshow": {
     "slide_type": "-"
    }
   },
   "outputs": [],
   "source": [
    "history = {}\n",
    "delay = 0\n",
    "m_range = list(range(-300,300,10))\n",
    "b_range = list(range(0,700000,25000))\n",
    "\n",
    "for b in b_range:\n",
    "    for m in m_range:\n",
    "        mse = mean_square_error(m, b, house_price_data_2['Area'], house_price_data_2['Price'])\n",
    "#         mse = plot_and_return_mse(m, 0, house_price_data_2['Area'], house_price_data_2['Price'], color='red', size=80,\n",
    "#                             x_limit = 5000, y_limit = 770000, title = 'Area Vs Cost - m=%s, c=%s'%(m,c))\n",
    "        history[mse] = (m,b)\n",
    "        time.sleep(delay)\n",
    "    \n",
    "#plotting best line\n",
    "mse = sorted(history.keys())[0]\n",
    "m,b = history[mse]\n",
    "mse = plot_and_return_mse(m, b, house_price_data_2['Area'], house_price_data_2['Price'], color='red', size=80,\n",
    "                        x_limit = 5000, y_limit = 770000, title = 'Area Vs Cost - m=%0.3f, b=%0.2f'%(m,b))\n",
    "\n",
    "#Print the lines in ascending order od MSE\n",
    "results_complete = pd.DataFrame()\n",
    "\n",
    "for mse,variables in sorted(history.items()):\n",
    "    m,b = variables\n",
    "    results_complete = results_complete.append({'m': m, 'b': b, 'mse': mse}, ignore_index=True)\n",
    "\n",
    "(pd.DataFrame([['m (Slope)', 'b (Y-intercept)', 'MSE (Mean Squared Error)']], columns=['m', 'b', 'mse'])\\\n",
    " .append(results_complete). reset_index(drop=True)).head(11).style.applymap(bigger_table)"
   ]
  },
  {
   "cell_type": "markdown",
   "metadata": {
    "slideshow": {
     "slide_type": "slide"
    }
   },
   "source": [
    "### Here is the 3-D surface which represents the  error function / loss function\n",
    "### Each point in this surface corresponds to different line with different combination of slope and intercept"
   ]
  },
  {
   "cell_type": "code",
   "execution_count": null,
   "metadata": {
    "format": "tab",
    "slideshow": {
     "slide_type": "-"
    }
   },
   "outputs": [],
   "source": [
    "fig = plt.figure(figsize=(14, 14))\n",
    "ax = fig.add_subplot(111, projection='3d')\n",
    "\n",
    "points = []\n",
    "\n",
    "for m,b,mse in zip(results_complete['m'], results_complete['b'], results_complete['mse']):\n",
    "    plt.plot([m], [b], [mse], 'r-')\n",
    "    points.append([m, b, mse])\n",
    "\n",
    "\n",
    "\n",
    "ax.plot(*zip(*points),'bo') \n",
    "\n",
    "ax.set_xlabel('m (Slope)', labelpad=15)\n",
    "ax.set_ylabel('b (Y-Intercept)', labelpad=15)\n",
    "ax.set_zlabel('MSE', labelpad=15)\n",
    "\n",
    "\n",
    "plt.show()"
   ]
  },
  {
   "cell_type": "markdown",
   "metadata": {
    "collapsed": true,
    "format": "tab",
    "slideshow": {
     "slide_type": "slide"
    }
   },
   "source": [
    "### What is the problem with the Approach 1 (trying random lines)"
   ]
  },
  {
   "cell_type": "markdown",
   "metadata": {
    "collapsed": true,
    "format": "tab",
    "slideshow": {
     "slide_type": "fragment"
    }
   },
   "source": [
    "### The best line could be missed easily"
   ]
  },
  {
   "cell_type": "markdown",
   "metadata": {
    "collapsed": true,
    "format": "tab",
    "slideshow": {
     "slide_type": "fragment"
    }
   },
   "source": [
    "### What is the problem with the Approach 2 (trying all possible lines)"
   ]
  },
  {
   "cell_type": "markdown",
   "metadata": {
    "collapsed": true,
    "format": "tab",
    "slideshow": {
     "slide_type": "fragment"
    }
   },
   "source": [
    "### Infinite no. of lines are possible"
   ]
  },
  {
   "cell_type": "markdown",
   "metadata": {
    "collapsed": true,
    "format": "tab",
    "slideshow": {
     "slide_type": "slide"
    }
   },
   "source": [
    "### Approach 3 : Gradient Descent - A mathematical technique for finding the minimum of a function\n"
   ]
  },
  {
   "cell_type": "markdown",
   "metadata": {
    "slideshow": {
     "slide_type": "fragment"
    }
   },
   "source": [
    "![gradient_descent_error_surface](images/gradient_descent_error_surface.png)"
   ]
  },
  {
   "cell_type": "markdown",
   "metadata": {
    "slideshow": {
     "slide_type": "-"
    }
   },
   "source": [
    "![gradient_descent_example](images/gradient_descent_example.gif)"
   ]
  },
  {
   "cell_type": "markdown",
   "metadata": {
    "slideshow": {
     "slide_type": "slide"
    }
   },
   "source": [
    "### Visualizing how gradient descent works"
   ]
  },
  {
   "cell_type": "code",
   "execution_count": null,
   "metadata": {
    "format": "tab",
    "scrolled": false,
    "slideshow": {
     "slide_type": "-"
    }
   },
   "outputs": [],
   "source": [
    "YouTubeVideo('kJgx2RcJKZY',width=800, height=600)"
   ]
  },
  {
   "cell_type": "markdown",
   "metadata": {
    "slideshow": {
     "slide_type": "slide"
    }
   },
   "source": [
    "### Gradient descent - Rolling ball analogy "
   ]
  },
  {
   "cell_type": "code",
   "execution_count": null,
   "metadata": {
    "format": "tab",
    "slideshow": {
     "slide_type": "-"
    }
   },
   "outputs": [],
   "source": [
    "YouTubeVideo('vWFjqgb-ylQ',width=800, height=600, start=5)"
   ]
  },
  {
   "cell_type": "markdown",
   "metadata": {
    "slideshow": {
     "slide_type": "slide"
    }
   },
   "source": [
    "### Let's make use of gradient descent and find the best line for our scenario"
   ]
  },
  {
   "cell_type": "code",
   "execution_count": null,
   "metadata": {
    "format": "tab",
    "scrolled": false
   },
   "outputs": [],
   "source": [
    "def error_function(x, m, b): # this is your 'straight line' y=f(x)\n",
    "    return m*x + b\n",
    "\n",
    "m, b = curve_fit(error_function, house_price_data_2['Area'], house_price_data_2['Price'])[0]\n",
    "mse = plot_and_return_mse(m, b, house_price_data_2['Area'], house_price_data_2['Price'], color='red', size=80,\n",
    "                        x_limit = 5000, y_limit = 770000, title = 'Area Vs Cost - m=%0.3f, b=%0.2f'%(m,b))"
   ]
  },
  {
   "cell_type": "markdown",
   "metadata": {
    "collapsed": true,
    "slideshow": {
     "slide_type": "slide"
    }
   },
   "source": [
    "### What we have been doing so far is Linear Regression\n",
    "### Our example was a Linear Regression problem with 1 variable (Area of the House)"
   ]
  },
  {
   "cell_type": "markdown",
   "metadata": {
    "slideshow": {
     "slide_type": "fragment"
    }
   },
   "source": [
    "### When more variables come into picture, it becomes a multivariable Linear Regression Problem\n",
    "### An Example data for multivariate Linear regression is below:"
   ]
  },
  {
   "cell_type": "code",
   "execution_count": null,
   "metadata": {
    "format": "tab",
    "scrolled": true,
    "slideshow": {
     "slide_type": "fragment"
    }
   },
   "outputs": [],
   "source": [
    "path = 'data/kaggle_house_value.csv'\n",
    "house_price_data_3 = pd.read_csv(path, header=0)\n",
    "pd.set_option('display.max_columns', 500)\n",
    "house_price_data_3.head(10)\n",
    "#(pd.DataFrame([['Area (Sq. Feet)', 'Price (INR)']], columns=['Area', 'Price']).append(house_price_data_1).\\\n",
    "# reset_index(drop=True)).style.applymap(bigger_table)"
   ]
  },
  {
   "cell_type": "markdown",
   "metadata": {
    "collapsed": true,
    "slideshow": {
     "slide_type": "slide"
    }
   },
   "source": [
    "### In a multivariate Linear regession the line to be fitted will be in higher dimentional space - (not in 2-D space as in one variable linear regression)"
   ]
  },
  {
   "cell_type": "markdown",
   "metadata": {
    "collapsed": true,
    "slideshow": {
     "slide_type": "fragment"
    }
   },
   "source": [
    "### General equation of a line in n-dimentional space can be put as :\n",
    "\n",
    "### y = m1*x1 + m2*x2 + m3*x3 +  .. . .  + mn*xn + b"
   ]
  },
  {
   "cell_type": "markdown",
   "metadata": {
    "slideshow": {
     "slide_type": "fragment"
    }
   },
   "source": [
    "### A Linear Regression is a simple Machine Learning Model, which Learns all these parameters m1, m2, m3 .. mn and b from the given data"
   ]
  },
  {
   "cell_type": "markdown",
   "metadata": {
    "collapsed": true,
    "slideshow": {
     "slide_type": "slide"
    }
   },
   "source": [
    "### Congratulations!"
   ]
  },
  {
   "cell_type": "markdown",
   "metadata": {
    "slideshow": {
     "slide_type": "-"
    }
   },
   "source": [
    "### You've learnt how a simple machine learning model learns "
   ]
  },
  {
   "cell_type": "markdown",
   "metadata": {
    "slideshow": {
     "slide_type": "slide"
    }
   },
   "source": [
    "### Thanks for learning"
   ]
  }
 ],
 "metadata": {
  "celltoolbar": "Slideshow",
  "kernelspec": {
   "display_name": "Python 3",
   "language": "python",
   "name": "python3"
  },
  "language_info": {
   "codemirror_mode": {
    "name": "ipython",
    "version": 3
   },
   "file_extension": ".py",
   "mimetype": "text/x-python",
   "name": "python",
   "nbconvert_exporter": "python",
   "pygments_lexer": "ipython3",
   "version": "3.4.3"
  }
 },
 "nbformat": 4,
 "nbformat_minor": 2
}
