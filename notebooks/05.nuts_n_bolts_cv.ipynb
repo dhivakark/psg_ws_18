{
 "cells": [
  {
   "cell_type": "markdown",
   "metadata": {},
   "source": [
    "# Classification using Basic Image Processing"
   ]
  },
  {
   "cell_type": "markdown",
   "metadata": {},
   "source": [
    "We will perform the classification of Nuts and Bolts using basic image processing and an \"IF\"\n",
    "This is to get you familiar with the Basic image processing functions using Scikit-Image\n",
    "Before you work on the data / image, you may have to pre-process them to get uniformity and better performance\n",
    "\n",
    "These are stages in this Classification process\n",
    "* Pre-processing & Binarizing\n",
    "* Contour Detection\n",
    "* Feature extraction\n",
    "* Thresholding (classifying)"
   ]
  },
  {
   "cell_type": "markdown",
   "metadata": {},
   "source": [
    "### Pre-processing\n",
    "Preprocessing includes Converting the colorspace to Gray and Smoothing (applying filter) the image, etc"
   ]
  },
  {
   "cell_type": "code",
   "execution_count": null,
   "metadata": {
    "collapsed": true
   },
   "outputs": [],
   "source": [
    "# Import necessary modules\n",
    "import cv2\n",
    "import numpy as np\n",
    "import matplotlib.pyplot as plt"
   ]
  },
  {
   "cell_type": "code",
   "execution_count": null,
   "metadata": {
    "collapsed": true
   },
   "outputs": [],
   "source": [
    "# Read the image and Convert it to Grayscale\n",
    "image = cv2.imread('../data/nuts_bolts_v1/bolt.jpg')\n",
    "gray_img = cv2.cvtColor(image, cv2.COLOR_BGR2GRAY)\n",
    "#gray_img = cv2.GaussianBlur(gray_img, (5, 5), 0)"
   ]
  },
  {
   "cell_type": "code",
   "execution_count": null,
   "metadata": {
    "collapsed": true
   },
   "outputs": [],
   "source": [
    "plt.imshow(gray_img, 'gray')\n",
    "plt.show()"
   ]
  },
  {
   "cell_type": "markdown",
   "metadata": {},
   "source": [
    "### Binarizing and Cleaning\n",
    "When you need to work with only two levels of pixel values, you can binarize the image which gives an image with only two pixel values(0, 255)\n",
    "\n",
    "If you have a lot of discontinuities in the image, you can smooth them out with the morphological operations like **Erosion** and **Dilation**"
   ]
  },
  {
   "cell_type": "code",
   "execution_count": null,
   "metadata": {
    "collapsed": true
   },
   "outputs": [],
   "source": [
    "# Binarize the image using Adaptive thresholding\n",
    "th, bin_img = cv2.threshold(gray_img, 250, 255, cv2.THRESH_BINARY_INV)"
   ]
  },
  {
   "cell_type": "code",
   "execution_count": null,
   "metadata": {},
   "outputs": [],
   "source": [
    "plt.imshow(bin_img, 'gray')\n",
    "plt.show()"
   ]
  },
  {
   "cell_type": "code",
   "execution_count": null,
   "metadata": {
    "collapsed": true
   },
   "outputs": [],
   "source": [
    "# Close the holes by Morphological operations (Erosion and Dilation)\n",
    "struct_elem = cv2.getStructuringElement(cv2.MORPH_RECT, (5, 5))\n",
    "smooth_bin_img = cv2.erode(bin_img, struct_elem, iterations=1)\n",
    "smooth_bin_img = cv2.dilate(smooth_bin_img, struct_elem, iterations=2)"
   ]
  },
  {
   "cell_type": "code",
   "execution_count": null,
   "metadata": {},
   "outputs": [],
   "source": [
    "plt.imshow(smooth_bin_img, 'gray')\n",
    "plt.show()"
   ]
  },
  {
   "cell_type": "markdown",
   "metadata": {},
   "source": [
    "### Contour Detection\n",
    "Contours are the closed regions in an image. Contours have many important properties which can be used in different classification problems"
   ]
  },
  {
   "cell_type": "code",
   "execution_count": null,
   "metadata": {
    "collapsed": true
   },
   "outputs": [],
   "source": [
    "# Find all the contours from the binary image\n",
    "img, contours, heirarchy = cv2.findContours(smooth_bin_img, cv2.RETR_EXTERNAL, cv2.CHAIN_APPROX_SIMPLE)"
   ]
  },
  {
   "cell_type": "code",
   "execution_count": null,
   "metadata": {},
   "outputs": [],
   "source": [
    "# Display the image and plot all contours found\n",
    "cnt_img = cv2.drawContours(image, contours, -1, (0, 255, 0), 3)\n",
    "plt.imshow(cnt_img)\n",
    "plt.show()"
   ]
  },
  {
   "cell_type": "markdown",
   "metadata": {},
   "source": [
    "### Feature extraction\n",
    "\n",
    "Find the below two features\n",
    "1. Compactness\n",
    "2. Circularity\n",
    "\n",
    "#### Compactness\n",
    "It is defined by White area / Contour area"
   ]
  },
  {
   "cell_type": "code",
   "execution_count": null,
   "metadata": {},
   "outputs": [],
   "source": [
    "# Find the compactness\n",
    "contour_area = cv2.contourArea(contours[0])\n",
    "white_area = cv2.countNonZero(smooth_bin_img)\n",
    "compactness = white_area / contour_area * 100\n",
    "print(compactness)"
   ]
  },
  {
   "cell_type": "markdown",
   "metadata": {},
   "source": [
    "#### Circularity\n",
    "It is defined by Contour area / Rectangular area"
   ]
  },
  {
   "cell_type": "code",
   "execution_count": null,
   "metadata": {},
   "outputs": [],
   "source": [
    "# Find the circularity\n",
    "x, y, w, h = cv2.boundingRect(contours[0])\n",
    "rect_area = w * h\n",
    "circularity = contour_area / rect_area * 100\n",
    "print(circularity)"
   ]
  },
  {
   "cell_type": "markdown",
   "metadata": {},
   "source": [
    "### Thresholding (Classifying)\n",
    "From an the data distribution of Nuts and Bolts shown in the presentation, we heuristically choose the below thresholds to classify a new image\n",
    "\n",
    "Circularity = 55  \n",
    "Compactness = 90"
   ]
  },
  {
   "cell_type": "code",
   "execution_count": null,
   "metadata": {},
   "outputs": [],
   "source": [
    "# Use \"if\" to classify it into a Nut or a Bolt\n",
    "if circularity > 55 and compactness < 90:\n",
    "    print('Nut')\n",
    "else:\n",
    "    print('Bolt')"
   ]
  },
  {
   "cell_type": "code",
   "execution_count": null,
   "metadata": {},
   "outputs": [],
   "source": [
    "plt.scatter(circularity, compactness, color='black', s=60)\n",
    "plt.plot([55, 55], [74, 100], color='green')\n",
    "plt.plot([0, 100], [90, 90], color='green')\n",
    "plt.show()"
   ]
  }
 ],
 "metadata": {
  "kernelspec": {
   "display_name": "Python 2",
   "language": "python",
   "name": "python2"
  },
  "language_info": {
   "codemirror_mode": {
    "name": "ipython",
    "version": 2
   },
   "file_extension": ".py",
   "mimetype": "text/x-python",
   "name": "python",
   "nbconvert_exporter": "python",
   "pygments_lexer": "ipython2",
   "version": "2.7.6"
  }
 },
 "nbformat": 4,
 "nbformat_minor": 2
}
