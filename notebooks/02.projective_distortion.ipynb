{
 "cells": [
  {
   "cell_type": "markdown",
   "metadata": {},
   "source": [
    "# Projective Transformation Estimation\n",
    "This workbook deals with projective distortion in camera images and with estimating homographies between images. We are given two images, Figures 1a and 1b, we need to merge the two by estimating homography between them. In case you did not know, Figure 1b is a photo of Audrey Hepburn, one of the most famous movie stars.\n",
    "<img src=\"../data/projective_distortion/hw1.jpg\"> "
   ]
  },
  {
   "cell_type": "markdown",
   "metadata": {},
   "source": [
    "Let's' import necessary libraries"
   ]
  },
  {
   "cell_type": "code",
   "execution_count": null,
   "metadata": {},
   "outputs": [],
   "source": [
    "import numpy as np\n",
    "import cv2\n",
    "import math\n",
    "import matplotlib.pyplot as plt\n",
    "\n",
    "%matplotlib inline"
   ]
  },
  {
   "cell_type": "markdown",
   "metadata": {},
   "source": [
    "Load the two images using opencv imread function"
   ]
  },
  {
   "cell_type": "code",
   "execution_count": null,
   "metadata": {},
   "outputs": [],
   "source": [
    "img1 = cv2.imread('../data/projective_distortion/Frame.jpg')"
   ]
  },
  {
   "cell_type": "code",
   "execution_count": null,
   "metadata": {},
   "outputs": [],
   "source": [
    "#Display the img1\n",
    "plt.figure(figsize=(10,10))\n",
    "plt.imshow(cv2.cvtColor(img1, cv2.COLOR_BGR2RGB))"
   ]
  },
  {
   "cell_type": "code",
   "execution_count": null,
   "metadata": {},
   "outputs": [],
   "source": [
    "#try loading Audrey image and display\n",
    "img2 = cv2.imread('../data/projective_distortion/Audrey.jpg')"
   ]
  },
  {
   "cell_type": "markdown",
   "metadata": {},
   "source": [
    "Create an image such that the face in Figure 1b is now placed inside the indicated frame PQRS in Figure 1a. This can be achieved by finding the homography from 1b to 1a. First let's draw selected region to visualize"
   ]
  },
  {
   "cell_type": "code",
   "execution_count": null,
   "metadata": {},
   "outputs": [],
   "source": [
    "##draw the selected region\n",
    "img3= np.zeros((img1.shape[0],img1.shape[1],3),dtype='uint8')\n",
    "\n",
    "# See if you can use mouse event\n",
    "pts = np.array([[186,152],[346,176],[342,433],[184,462]],np.int32)\n",
    "pts = pts.reshape((-1,1,2))\n",
    "img3 = cv2.fillPoly(img3,[pts],(255,255,255))"
   ]
  },
  {
   "cell_type": "code",
   "execution_count": null,
   "metadata": {},
   "outputs": [],
   "source": [
    "#try Displaying img3"
   ]
  },
  {
   "cell_type": "code",
   "execution_count": null,
   "metadata": {},
   "outputs": [],
   "source": [
    "# Finding homography to transform img1 to img2\n",
    "pts1 = np.array([[186,152],[346,176],[342,433],[184,462]],np.float32)\n",
    "pts2 = np.array([[0,0],[500,0],[500,508],[0,508]],np.float32)\n",
    "\n",
    "#opencv function to find the homography"
   ]
  },
  {
   "cell_type": "code",
   "execution_count": null,
   "metadata": {},
   "outputs": [],
   "source": [
    "# Warp the image using opencv function\n",
    "img3 = cv2.warpPerspective(img2, H, (img1.shape[1],img1.shape[0])) "
   ]
  },
  {
   "cell_type": "markdown",
   "metadata": {},
   "source": [
    "Display the image"
   ]
  },
  {
   "cell_type": "code",
   "execution_count": null,
   "metadata": {},
   "outputs": [],
   "source": [
    "# convert image to RGB color for matplotlib\n",
    "img3_rgb = cv2.cvtColor(img3, cv2.COLOR_BGR2RGB)\n",
    "\n",
    "# show image with matplotlib\n",
    "plt.figure(figsize=(10,10))\n",
    "plt.imshow(img3_rgb)"
   ]
  },
  {
   "cell_type": "code",
   "execution_count": null,
   "metadata": {
    "scrolled": true
   },
   "outputs": [],
   "source": [
    "#merge the two images and display the output\n",
    "img4 = img3.copy()\n",
    "img4[img3==0] = img1[img3==0]"
   ]
  },
  {
   "cell_type": "code",
   "execution_count": null,
   "metadata": {},
   "outputs": [],
   "source": [
    "# convert image to RGB color for matplotlib\n",
    "img4_rgb = cv2.cvtColor(img4, cv2.COLOR_BGR2RGB)\n",
    "# show image with matplotlib"
   ]
  },
  {
   "cell_type": "code",
   "execution_count": null,
   "metadata": {},
   "outputs": [],
   "source": [
    "print('The end!')"
   ]
  },
  {
   "cell_type": "markdown",
   "metadata": {},
   "source": [
    "***"
   ]
  },
  {
   "cell_type": "markdown",
   "metadata": {},
   "source": [
    "Calculating the Homography without using opencv function (Optional)"
   ]
  },
  {
   "cell_type": "markdown",
   "metadata": {},
   "source": [
    "<img src=\"../data/projective_distortion/homography.jpg\">"
   ]
  },
  {
   "cell_type": "markdown",
   "metadata": {},
   "source": [
    "According to the above method first we are creating required variables for finding homography"
   ]
  },
  {
   "cell_type": "code",
   "execution_count": null,
   "metadata": {},
   "outputs": [],
   "source": [
    "##set up the P.Q.R.S and there corresponding points in img2\n",
    "p = np.matrix('152 186 1',dtype=float)\n",
    "q = np.matrix('176 346 1',dtype=float)\n",
    "r = np.matrix('462 184 1',dtype=float)\n",
    "s = np.matrix('433 342 1',dtype=float)\n",
    "pr = np.matrix('0 0 1',dtype=float)\n",
    "qr = np.matrix('0 0 1',dtype=float)\n",
    "qr[0,1] = img2.shape[1]\n",
    "rr = np.matrix('0 0 1',dtype=float)\n",
    "rr[0,0] = img2.shape[0]\n",
    "sr = np.matrix('0 0 1',dtype=float)\n",
    "sr[0,0] = img2.shape[0]\n",
    "sr[0,1] = img2.shape[1]"
   ]
  },
  {
   "cell_type": "markdown",
   "metadata": {},
   "source": [
    "Finding the Homography as discribed in the above section"
   ]
  },
  {
   "cell_type": "code",
   "execution_count": null,
   "metadata": {},
   "outputs": [],
   "source": [
    "#Transform: Photo => realFigure\n",
    "##get ready for paraMatrix*parameter=Rvector\n",
    "paraMatrix = np.zeros((8,8),dtype=float)\n",
    "paraMatrix = np.matrix(paraMatrix,dtype=float)\n",
    "paraMatrix[0,0:3] = p\n",
    "paraMatrix[0,6:9] = p[0,0:2]*(-1)*pr[0,0]\n",
    "paraMatrix[1,3:6] = p\n",
    "paraMatrix[1,6:9] = p[0,0:2]*(-1)*pr[0,1]\n",
    "paraMatrix[2,0:3] = q\n",
    "paraMatrix[2,6:9] = q[0,0:2]*(-1)*qr[0,0]\n",
    "paraMatrix[3,3:6] = q\n",
    "paraMatrix[3,6:9] = q[0,0:2]*(-1)*qr[0,1]\n",
    "paraMatrix[4,0:3] = r\n",
    "paraMatrix[4,6:9] = r[0,0:2]*(-1)*rr[0,0]\n",
    "paraMatrix[5,3:6] = r\n",
    "paraMatrix[5,6:9] = r[0,0:2]*(-1)*rr[0,1]\n",
    "paraMatrix[6,0:3] = s\n",
    "paraMatrix[6,6:9] = s[0,0:2]*(-1)*sr[0,0]\n",
    "paraMatrix[7,3:6] = s\n",
    "paraMatrix[7,6:9] = s[0,0:2]*(-1)*sr[0,1]\n",
    "Rvector = np.matrix('0 0 0 0 0 0 0 0',dtype=float)\n",
    "Rvector[0,0:2] = pr[0,0:2]\n",
    "Rvector[0,2:4] = qr[0,0:2]\n",
    "Rvector[0,4:6] = rr[0,0:2]\n",
    "Rvector[0,6:8] = sr[0,0:2]"
   ]
  },
  {
   "cell_type": "markdown",
   "metadata": {},
   "source": [
    "we have all the necessary matrices ready "
   ]
  },
  {
   "cell_type": "code",
   "execution_count": null,
   "metadata": {},
   "outputs": [],
   "source": [
    "#Solve for the equation to get the parameters\n",
    "#parameter = paraMatrix.I*Rvector.T"
   ]
  },
  {
   "cell_type": "code",
   "execution_count": null,
   "metadata": {},
   "outputs": [],
   "source": [
    "parameter = parameter.T\n",
    "H = np.zeros((3,3),dtype=np.float32)\n",
    "H[0] = parameter[0,0:3]\n",
    "H[1] = parameter[0,3:6]\n",
    "H[2,0:2] = parameter[0,6:8]\n",
    "H[2,2] = 1\n",
    "print(H)"
   ]
  }
 ],
 "metadata": {
  "kernelspec": {
   "display_name": "Python 3",
   "language": "python",
   "name": "python3"
  },
  "language_info": {
   "codemirror_mode": {
    "name": "ipython",
    "version": 3
   },
   "file_extension": ".py",
   "mimetype": "text/x-python",
   "name": "python",
   "nbconvert_exporter": "python",
   "pygments_lexer": "ipython3",
   "version": "3.4.3"
  }
 },
 "nbformat": 4,
 "nbformat_minor": 2
}
