{
 "cells": [
  {
   "cell_type": "markdown",
   "metadata": {},
   "source": [
    "# Basics of MLP\n",
    "- Objective: create vanilla neural networks (i.e., Multilayer perceptrons) for simple classification task with Keras"
   ]
  },
  {
   "cell_type": "markdown",
   "metadata": {},
   "source": [
    "## MLP Structures\n",
    "- Each MLP model is consisted of one input layer, several hidden layers, and one output layer\n",
    "- Number of neurons in each layer is not limited\n",
    "<img src=\"http://cs231n.github.io/assets/nn1/neural_net.jpeg\" style=\"width: 300px\"/>\n",
    "<br>\n",
    "<center>**MLP with one hidden layer**</center>\n",
    "- Number of input neurons: 3\n",
    "- Number of hidden neurons: 4\n",
    "- Number of output neurons: 2\n"
   ]
  },
  {
   "cell_type": "markdown",
   "metadata": {},
   "source": [
    "<img src=\"http://cs231n.github.io/assets/nn1/neural_net2.jpeg\" style=\"width: 500px\"/>\n",
    "<br>\n",
    "<center>**MLP with two hidden layers**</center>\n",
    "- Number of input neurons: 3\n",
    "- Number of hidden neurons: (4, 4)\n",
    "- Number of output neurons: 1\n"
   ]
  },
  {
   "cell_type": "code",
   "execution_count": 1,
   "metadata": {
    "collapsed": false
   },
   "outputs": [
    {
     "name": "stderr",
     "output_type": "stream",
     "text": [
      "Using Theano backend.\n"
     ]
    }
   ],
   "source": [
    "import matplotlib.pyplot as plt\n",
    "%matplotlib inline\n",
    "from keras.models import Sequential\n",
    "from keras.layers import Activation, Dense\n",
    "from keras import optimizers"
   ]
  },
  {
   "cell_type": "markdown",
   "metadata": {},
   "source": [
    "## MLP for classification tasks\n",
    "- When the target (**y**) is discrete (categorical)\n",
    "- For loss function, cross-entropy is used and for evaluation metric, accuracy is commonly used"
   ]
  },
  {
   "cell_type": "code",
   "execution_count": 2,
   "metadata": {
    "collapsed": true
   },
   "outputs": [],
   "source": [
    "from sklearn.datasets import load_breast_cancer\n",
    "from sklearn.model_selection import train_test_split"
   ]
  },
  {
   "cell_type": "code",
   "execution_count": 3,
   "metadata": {
    "collapsed": true
   },
   "outputs": [],
   "source": [
    "whole_data = load_breast_cancer()"
   ]
  },
  {
   "cell_type": "code",
   "execution_count": 4,
   "metadata": {
    "collapsed": true
   },
   "outputs": [],
   "source": [
    "X_data = whole_data.data\n",
    "y_data = whole_data.target"
   ]
  },
  {
   "cell_type": "code",
   "execution_count": 5,
   "metadata": {
    "collapsed": true
   },
   "outputs": [],
   "source": [
    "X_train, X_test, y_train, y_test = train_test_split(X_data, y_data, test_size = 0.3, random_state = 7) "
   ]
  },
  {
   "cell_type": "markdown",
   "metadata": {},
   "source": [
    "### Dataset Description\n",
    "- Breast cancer dataset has total 569 data instances (212 malign, 357 benign instances)\n",
    "- 30 attributes (features) to predict the binary class (M/B)\n",
    "- Doc: http://scikit-learn.org/stable/modules/generated/sklearn.datasets.load_breast_cancer.html#sklearn.datasets.load_breast_cancer"
   ]
  },
  {
   "cell_type": "code",
   "execution_count": 6,
   "metadata": {
    "collapsed": false
   },
   "outputs": [
    {
     "name": "stdout",
     "output_type": "stream",
     "text": [
      "(398, 30)\n",
      "(171, 30)\n",
      "(398,)\n",
      "(171,)\n"
     ]
    }
   ],
   "source": [
    "print(X_train.shape)\n",
    "print(X_test.shape)\n",
    "print(y_train.shape)\n",
    "print(y_test.shape)"
   ]
  },
  {
   "cell_type": "markdown",
   "metadata": {},
   "source": [
    "### 1. Creating a model\n",
    "- Same with regression model at the outset"
   ]
  },
  {
   "cell_type": "code",
   "execution_count": 7,
   "metadata": {
    "collapsed": true
   },
   "outputs": [],
   "source": [
    "from keras.models import Sequential"
   ]
  },
  {
   "cell_type": "code",
   "execution_count": 8,
   "metadata": {
    "collapsed": true
   },
   "outputs": [],
   "source": [
    "model = Sequential()"
   ]
  },
  {
   "cell_type": "markdown",
   "metadata": {},
   "source": [
    "### 1-1. Adding layers\n",
    "- Keras layers can be **added** to the model\n",
    "- Adding layers are like stacking lego blocks one by one\n",
    "- It should be noted that as this is a classification problem, sigmoid layer (softmax for multi-class problems) should be added\n",
    "- Doc: https://keras.io/layers/core/"
   ]
  },
  {
   "cell_type": "code",
   "execution_count": 9,
   "metadata": {
    "collapsed": true
   },
   "outputs": [],
   "source": [
    "# Keras model with two hidden layer with 10 neurons each \n",
    "model.add(Dense(10, input_shape = (30,)))    # Input layer => input_shape should be explicitly designated\n",
    "model.add(Activation('sigmoid'))\n",
    "model.add(Dense(10))                         # Hidden layer => only output dimension should be designated\n",
    "model.add(Activation('sigmoid'))\n",
    "model.add(Dense(10))                         # Hidden layer => only output dimension should be designated\n",
    "model.add(Activation('sigmoid'))\n",
    "model.add(Dense(1))                          # Output layer => output dimension = 1 since it is a binary classification\n",
    "model.add(Activation('sigmoid'))"
   ]
  },
  {
   "cell_type": "code",
   "execution_count": 10,
   "metadata": {
    "collapsed": true
   },
   "outputs": [],
   "source": [
    "# This is equivalent to the above code block\n",
    "# model.add(Dense(10, input_shape = (30,), activation = 'sigmoid'))\n",
    "# model.add(Dense(10, activation = 'sigmoid'))\n",
    "# model.add(Dense(10, activation = 'sigmoid'))\n",
    "# model.add(Dense(1, activation = 'sigmoid'))"
   ]
  },
  {
   "cell_type": "markdown",
   "metadata": {},
   "source": [
    "### 1-2. Model compile\n",
    "- Keras model should be \"compiled\" prior to training\n",
    "- Types of loss (function) and optimizer should be designated\n",
    "    - Doc (optimizers): https://keras.io/optimizers/\n",
    "    - Doc (losses): https://keras.io/losses/"
   ]
  },
  {
   "cell_type": "code",
   "execution_count": 11,
   "metadata": {
    "collapsed": true
   },
   "outputs": [],
   "source": [
    "from keras import optimizers"
   ]
  },
  {
   "cell_type": "code",
   "execution_count": 12,
   "metadata": {
    "collapsed": true
   },
   "outputs": [],
   "source": [
    "sgd = optimizers.SGD(lr = 0.01)    # stochastic gradient descent optimizer"
   ]
  },
  {
   "cell_type": "code",
   "execution_count": 13,
   "metadata": {
    "collapsed": true
   },
   "outputs": [],
   "source": [
    "model.compile(optimizer = sgd, loss = 'binary_crossentropy', metrics = ['accuracy'])"
   ]
  },
  {
   "cell_type": "markdown",
   "metadata": {},
   "source": [
    "### Summary of the model"
   ]
  },
  {
   "cell_type": "code",
   "execution_count": 14,
   "metadata": {
    "collapsed": false,
    "scrolled": true
   },
   "outputs": [
    {
     "name": "stdout",
     "output_type": "stream",
     "text": [
      "_________________________________________________________________\n",
      "Layer (type)                 Output Shape              Param #   \n",
      "=================================================================\n",
      "dense_1 (Dense)              (None, 10)                310       \n",
      "_________________________________________________________________\n",
      "activation_1 (Activation)    (None, 10)                0         \n",
      "_________________________________________________________________\n",
      "dense_2 (Dense)              (None, 10)                110       \n",
      "_________________________________________________________________\n",
      "activation_2 (Activation)    (None, 10)                0         \n",
      "_________________________________________________________________\n",
      "dense_3 (Dense)              (None, 10)                110       \n",
      "_________________________________________________________________\n",
      "activation_3 (Activation)    (None, 10)                0         \n",
      "_________________________________________________________________\n",
      "dense_4 (Dense)              (None, 1)                 11        \n",
      "_________________________________________________________________\n",
      "activation_4 (Activation)    (None, 1)                 0         \n",
      "=================================================================\n",
      "Total params: 541\n",
      "Trainable params: 541\n",
      "Non-trainable params: 0\n",
      "_________________________________________________________________\n"
     ]
    }
   ],
   "source": [
    "model.summary()"
   ]
  },
  {
   "cell_type": "markdown",
   "metadata": {},
   "source": [
    "### 2. Training\n",
    "- Training the model with training data provided"
   ]
  },
  {
   "cell_type": "code",
   "execution_count": 15,
   "metadata": {
    "collapsed": false,
    "scrolled": true
   },
   "outputs": [
    {
     "name": "stdout",
     "output_type": "stream",
     "text": [
      "Train on 278 samples, validate on 120 samples\n",
      "Epoch 1/100\n",
      "278/278 [==============================] - 0s - loss: 0.6926 - acc: 0.5612 - val_loss: 0.6890 - val_acc: 0.5833\n",
      "Epoch 2/100\n",
      "278/278 [==============================] - 0s - loss: 0.6867 - acc: 0.6151 - val_loss: 0.6875 - val_acc: 0.5833\n",
      "Epoch 3/100\n",
      "278/278 [==============================] - 0s - loss: 0.6833 - acc: 0.6151 - val_loss: 0.6854 - val_acc: 0.5833\n",
      "Epoch 4/100\n",
      "278/278 [==============================] - 0s - loss: 0.6801 - acc: 0.6151 - val_loss: 0.6824 - val_acc: 0.5833\n",
      "Epoch 5/100\n",
      "278/278 [==============================] - 0s - loss: 0.6769 - acc: 0.6151 - val_loss: 0.6804 - val_acc: 0.5833\n",
      "Epoch 6/100\n",
      "278/278 [==============================] - 0s - loss: 0.6742 - acc: 0.6151 - val_loss: 0.6776 - val_acc: 0.5833\n",
      "Epoch 7/100\n",
      "278/278 [==============================] - 0s - loss: 0.6715 - acc: 0.6151 - val_loss: 0.6754 - val_acc: 0.5833\n",
      "Epoch 8/100\n",
      "278/278 [==============================] - 0s - loss: 0.6694 - acc: 0.6151 - val_loss: 0.6741 - val_acc: 0.5833\n",
      "Epoch 9/100\n",
      "278/278 [==============================] - 0s - loss: 0.6672 - acc: 0.6151 - val_loss: 0.6729 - val_acc: 0.5833\n",
      "Epoch 10/100\n",
      "278/278 [==============================] - 0s - loss: 0.6654 - acc: 0.6151 - val_loss: 0.6725 - val_acc: 0.5833\n",
      "Epoch 11/100\n",
      "278/278 [==============================] - 0s - loss: 0.6642 - acc: 0.6151 - val_loss: 0.6720 - val_acc: 0.5833\n",
      "Epoch 12/100\n",
      "278/278 [==============================] - 0s - loss: 0.6631 - acc: 0.6151 - val_loss: 0.6710 - val_acc: 0.5833\n",
      "Epoch 13/100\n",
      "278/278 [==============================] - 0s - loss: 0.6623 - acc: 0.6151 - val_loss: 0.6711 - val_acc: 0.5833\n",
      "Epoch 14/100\n",
      "278/278 [==============================] - 0s - loss: 0.6619 - acc: 0.6151 - val_loss: 0.6707 - val_acc: 0.5833\n",
      "Epoch 15/100\n",
      "278/278 [==============================] - 0s - loss: 0.6611 - acc: 0.6151 - val_loss: 0.6710 - val_acc: 0.5833\n",
      "Epoch 16/100\n",
      "278/278 [==============================] - 0s - loss: 0.6609 - acc: 0.6151 - val_loss: 0.6710 - val_acc: 0.5833\n",
      "Epoch 17/100\n",
      "278/278 [==============================] - 0s - loss: 0.6603 - acc: 0.6151 - val_loss: 0.6705 - val_acc: 0.5833\n",
      "Epoch 18/100\n",
      "278/278 [==============================] - 0s - loss: 0.6600 - acc: 0.6151 - val_loss: 0.6713 - val_acc: 0.5833\n",
      "Epoch 19/100\n",
      "278/278 [==============================] - 0s - loss: 0.6597 - acc: 0.6151 - val_loss: 0.6709 - val_acc: 0.5833\n",
      "Epoch 20/100\n",
      "278/278 [==============================] - 0s - loss: 0.6593 - acc: 0.6151 - val_loss: 0.6707 - val_acc: 0.5833\n",
      "Epoch 21/100\n",
      "278/278 [==============================] - 0s - loss: 0.6591 - acc: 0.6151 - val_loss: 0.6708 - val_acc: 0.5833\n",
      "Epoch 22/100\n",
      "278/278 [==============================] - 0s - loss: 0.6589 - acc: 0.6151 - val_loss: 0.6702 - val_acc: 0.5833\n",
      "Epoch 23/100\n",
      "278/278 [==============================] - 0s - loss: 0.6591 - acc: 0.6151 - val_loss: 0.6702 - val_acc: 0.5833\n",
      "Epoch 24/100\n",
      "278/278 [==============================] - 0s - loss: 0.6588 - acc: 0.6151 - val_loss: 0.6703 - val_acc: 0.5833\n",
      "Epoch 25/100\n",
      "278/278 [==============================] - 0s - loss: 0.6585 - acc: 0.6151 - val_loss: 0.6710 - val_acc: 0.5833\n",
      "Epoch 26/100\n",
      "278/278 [==============================] - 0s - loss: 0.6582 - acc: 0.6151 - val_loss: 0.6705 - val_acc: 0.5833\n",
      "Epoch 27/100\n",
      "278/278 [==============================] - 0s - loss: 0.6582 - acc: 0.6151 - val_loss: 0.6704 - val_acc: 0.5833\n",
      "Epoch 28/100\n",
      "278/278 [==============================] - 0s - loss: 0.6582 - acc: 0.6151 - val_loss: 0.6705 - val_acc: 0.5833\n",
      "Epoch 29/100\n",
      "278/278 [==============================] - 0s - loss: 0.6580 - acc: 0.6151 - val_loss: 0.6708 - val_acc: 0.5833\n",
      "Epoch 30/100\n",
      "278/278 [==============================] - 0s - loss: 0.6580 - acc: 0.6151 - val_loss: 0.6705 - val_acc: 0.5833\n",
      "Epoch 31/100\n",
      "278/278 [==============================] - 0s - loss: 0.6575 - acc: 0.6151 - val_loss: 0.6707 - val_acc: 0.5833\n",
      "Epoch 32/100\n",
      "278/278 [==============================] - 0s - loss: 0.6575 - acc: 0.6151 - val_loss: 0.6704 - val_acc: 0.5833\n",
      "Epoch 33/100\n",
      "278/278 [==============================] - 0s - loss: 0.6573 - acc: 0.6151 - val_loss: 0.6710 - val_acc: 0.5833\n",
      "Epoch 34/100\n",
      "278/278 [==============================] - 0s - loss: 0.6576 - acc: 0.6151 - val_loss: 0.6709 - val_acc: 0.5833\n",
      "Epoch 35/100\n",
      "278/278 [==============================] - 0s - loss: 0.6573 - acc: 0.6151 - val_loss: 0.6711 - val_acc: 0.5833\n",
      "Epoch 36/100\n",
      "278/278 [==============================] - 0s - loss: 0.6572 - acc: 0.6151 - val_loss: 0.6710 - val_acc: 0.5833\n",
      "Epoch 37/100\n",
      "278/278 [==============================] - 0s - loss: 0.6572 - acc: 0.6151 - val_loss: 0.6707 - val_acc: 0.5833\n",
      "Epoch 38/100\n",
      "278/278 [==============================] - 0s - loss: 0.6570 - acc: 0.6151 - val_loss: 0.6710 - val_acc: 0.5833\n",
      "Epoch 39/100\n",
      "278/278 [==============================] - 0s - loss: 0.6569 - acc: 0.6151 - val_loss: 0.6708 - val_acc: 0.5833\n",
      "Epoch 40/100\n",
      "278/278 [==============================] - 0s - loss: 0.6569 - acc: 0.6151 - val_loss: 0.6709 - val_acc: 0.5833\n",
      "Epoch 41/100\n",
      "278/278 [==============================] - 0s - loss: 0.6569 - acc: 0.6151 - val_loss: 0.6703 - val_acc: 0.5833\n",
      "Epoch 42/100\n",
      "278/278 [==============================] - 0s - loss: 0.6570 - acc: 0.6151 - val_loss: 0.6701 - val_acc: 0.5833\n",
      "Epoch 43/100\n",
      "278/278 [==============================] - 0s - loss: 0.6569 - acc: 0.6151 - val_loss: 0.6707 - val_acc: 0.5833\n",
      "Epoch 44/100\n",
      "278/278 [==============================] - 0s - loss: 0.6569 - acc: 0.6151 - val_loss: 0.6710 - val_acc: 0.5833\n",
      "Epoch 45/100\n",
      "278/278 [==============================] - 0s - loss: 0.6566 - acc: 0.6151 - val_loss: 0.6711 - val_acc: 0.5833\n",
      "Epoch 46/100\n",
      "278/278 [==============================] - 0s - loss: 0.6569 - acc: 0.6151 - val_loss: 0.6711 - val_acc: 0.5833\n",
      "Epoch 47/100\n",
      "278/278 [==============================] - 0s - loss: 0.6565 - acc: 0.6151 - val_loss: 0.6708 - val_acc: 0.5833\n",
      "Epoch 48/100\n",
      "278/278 [==============================] - 0s - loss: 0.6564 - acc: 0.6151 - val_loss: 0.6708 - val_acc: 0.5833\n",
      "Epoch 49/100\n",
      "278/278 [==============================] - 0s - loss: 0.6565 - acc: 0.6151 - val_loss: 0.6710 - val_acc: 0.5833\n",
      "Epoch 50/100\n",
      "278/278 [==============================] - 0s - loss: 0.6566 - acc: 0.6151 - val_loss: 0.6709 - val_acc: 0.5833\n",
      "Epoch 51/100\n",
      "278/278 [==============================] - 0s - loss: 0.6563 - acc: 0.6151 - val_loss: 0.6711 - val_acc: 0.5833\n",
      "Epoch 52/100\n",
      "278/278 [==============================] - 0s - loss: 0.6563 - acc: 0.6151 - val_loss: 0.6710 - val_acc: 0.5833\n",
      "Epoch 53/100\n",
      "278/278 [==============================] - 0s - loss: 0.6562 - acc: 0.6151 - val_loss: 0.6713 - val_acc: 0.5833\n",
      "Epoch 54/100\n",
      "278/278 [==============================] - 0s - loss: 0.6563 - acc: 0.6151 - val_loss: 0.6707 - val_acc: 0.5833\n",
      "Epoch 55/100\n",
      "278/278 [==============================] - 0s - loss: 0.6560 - acc: 0.6151 - val_loss: 0.6711 - val_acc: 0.5833\n",
      "Epoch 56/100\n",
      "278/278 [==============================] - 0s - loss: 0.6561 - acc: 0.6151 - val_loss: 0.6707 - val_acc: 0.5833\n",
      "Epoch 57/100\n",
      "278/278 [==============================] - 0s - loss: 0.6559 - acc: 0.6151 - val_loss: 0.6711 - val_acc: 0.5833\n",
      "Epoch 58/100\n",
      "278/278 [==============================] - 0s - loss: 0.6560 - acc: 0.6151 - val_loss: 0.6707 - val_acc: 0.5833\n",
      "Epoch 59/100\n",
      "278/278 [==============================] - 0s - loss: 0.6559 - acc: 0.6151 - val_loss: 0.6705 - val_acc: 0.5833\n",
      "Epoch 60/100\n",
      "278/278 [==============================] - 0s - loss: 0.6561 - acc: 0.6151 - val_loss: 0.6703 - val_acc: 0.5833\n",
      "Epoch 61/100\n",
      "278/278 [==============================] - 0s - loss: 0.6561 - acc: 0.6151 - val_loss: 0.6708 - val_acc: 0.5833\n",
      "Epoch 62/100\n",
      "278/278 [==============================] - 0s - loss: 0.6559 - acc: 0.6151 - val_loss: 0.6705 - val_acc: 0.5833\n",
      "Epoch 63/100\n",
      "278/278 [==============================] - 0s - loss: 0.6558 - acc: 0.6151 - val_loss: 0.6706 - val_acc: 0.5833\n",
      "Epoch 64/100\n",
      "278/278 [==============================] - 0s - loss: 0.6559 - acc: 0.6151 - val_loss: 0.6703 - val_acc: 0.5833\n",
      "Epoch 65/100\n",
      "278/278 [==============================] - 0s - loss: 0.6558 - acc: 0.6151 - val_loss: 0.6706 - val_acc: 0.5833\n",
      "Epoch 66/100\n",
      "278/278 [==============================] - 0s - loss: 0.6557 - acc: 0.6151 - val_loss: 0.6709 - val_acc: 0.5833\n",
      "Epoch 67/100\n",
      "278/278 [==============================] - 0s - loss: 0.6557 - acc: 0.6151 - val_loss: 0.6705 - val_acc: 0.5833\n",
      "Epoch 68/100\n",
      "278/278 [==============================] - 0s - loss: 0.6556 - acc: 0.6151 - val_loss: 0.6706 - val_acc: 0.5833\n",
      "Epoch 69/100\n",
      "278/278 [==============================] - 0s - loss: 0.6554 - acc: 0.6151 - val_loss: 0.6706 - val_acc: 0.5833\n",
      "Epoch 70/100\n",
      "278/278 [==============================] - 0s - loss: 0.6553 - acc: 0.6151 - val_loss: 0.6700 - val_acc: 0.5833\n",
      "Epoch 71/100\n",
      "278/278 [==============================] - 0s - loss: 0.6556 - acc: 0.6151 - val_loss: 0.6710 - val_acc: 0.5833\n",
      "Epoch 72/100\n",
      "278/278 [==============================] - 0s - loss: 0.6556 - acc: 0.6151 - val_loss: 0.6707 - val_acc: 0.5833\n",
      "Epoch 73/100\n",
      "278/278 [==============================] - 0s - loss: 0.6553 - acc: 0.6151 - val_loss: 0.6702 - val_acc: 0.5833\n",
      "Epoch 74/100\n",
      "278/278 [==============================] - 0s - loss: 0.6556 - acc: 0.6151 - val_loss: 0.6707 - val_acc: 0.5833\n",
      "Epoch 75/100\n",
      "278/278 [==============================] - 0s - loss: 0.6552 - acc: 0.6151 - val_loss: 0.6703 - val_acc: 0.5833\n",
      "Epoch 76/100\n",
      "278/278 [==============================] - 0s - loss: 0.6552 - acc: 0.6151 - val_loss: 0.6701 - val_acc: 0.5833\n",
      "Epoch 77/100\n",
      "278/278 [==============================] - 0s - loss: 0.6553 - acc: 0.6151 - val_loss: 0.6699 - val_acc: 0.5833\n",
      "Epoch 78/100\n",
      "278/278 [==============================] - 0s - loss: 0.6550 - acc: 0.6151 - val_loss: 0.6706 - val_acc: 0.5833\n",
      "Epoch 79/100\n",
      "278/278 [==============================] - 0s - loss: 0.6552 - acc: 0.6151 - val_loss: 0.6702 - val_acc: 0.5833\n",
      "Epoch 80/100\n",
      "278/278 [==============================] - 0s - loss: 0.6550 - acc: 0.6151 - val_loss: 0.6705 - val_acc: 0.5833\n",
      "Epoch 81/100\n",
      "278/278 [==============================] - 0s - loss: 0.6550 - acc: 0.6151 - val_loss: 0.6703 - val_acc: 0.5833\n",
      "Epoch 82/100\n",
      "278/278 [==============================] - 0s - loss: 0.6550 - acc: 0.6151 - val_loss: 0.6704 - val_acc: 0.5833\n",
      "Epoch 83/100\n",
      "278/278 [==============================] - 0s - loss: 0.6547 - acc: 0.6151 - val_loss: 0.6694 - val_acc: 0.5833\n",
      "Epoch 84/100\n",
      "278/278 [==============================] - 0s - loss: 0.6550 - acc: 0.6151 - val_loss: 0.6698 - val_acc: 0.5833\n",
      "Epoch 85/100\n",
      "278/278 [==============================] - 0s - loss: 0.6548 - acc: 0.6151 - val_loss: 0.6697 - val_acc: 0.5833\n",
      "Epoch 86/100\n",
      "278/278 [==============================] - 0s - loss: 0.6547 - acc: 0.6151 - val_loss: 0.6693 - val_acc: 0.5833\n",
      "Epoch 87/100\n",
      "278/278 [==============================] - 0s - loss: 0.6550 - acc: 0.6151 - val_loss: 0.6700 - val_acc: 0.5833\n",
      "Epoch 88/100\n",
      "278/278 [==============================] - 0s - loss: 0.6547 - acc: 0.6151 - val_loss: 0.6699 - val_acc: 0.5833\n",
      "Epoch 89/100\n",
      "278/278 [==============================] - 0s - loss: 0.6546 - acc: 0.6151 - val_loss: 0.6698 - val_acc: 0.5833\n",
      "Epoch 90/100\n",
      "278/278 [==============================] - 0s - loss: 0.6547 - acc: 0.6151 - val_loss: 0.6697 - val_acc: 0.5833\n",
      "Epoch 91/100\n",
      "278/278 [==============================] - 0s - loss: 0.6546 - acc: 0.6151 - val_loss: 0.6700 - val_acc: 0.5833\n",
      "Epoch 92/100\n",
      "278/278 [==============================] - 0s - loss: 0.6546 - acc: 0.6151 - val_loss: 0.6690 - val_acc: 0.5833\n",
      "Epoch 93/100\n",
      "278/278 [==============================] - 0s - loss: 0.6545 - acc: 0.6151 - val_loss: 0.6686 - val_acc: 0.5833\n",
      "Epoch 94/100\n",
      "278/278 [==============================] - 0s - loss: 0.6546 - acc: 0.6151 - val_loss: 0.6689 - val_acc: 0.5833\n",
      "Epoch 95/100\n",
      "278/278 [==============================] - 0s - loss: 0.6545 - acc: 0.6151 - val_loss: 0.6692 - val_acc: 0.5833\n",
      "Epoch 96/100\n",
      "278/278 [==============================] - 0s - loss: 0.6543 - acc: 0.6151 - val_loss: 0.6692 - val_acc: 0.5833\n",
      "Epoch 97/100\n",
      "278/278 [==============================] - 0s - loss: 0.6545 - acc: 0.6151 - val_loss: 0.6692 - val_acc: 0.5833\n",
      "Epoch 98/100\n",
      "278/278 [==============================] - 0s - loss: 0.6543 - acc: 0.6151 - val_loss: 0.6692 - val_acc: 0.5833\n",
      "Epoch 99/100\n",
      "278/278 [==============================] - 0s - loss: 0.6542 - acc: 0.6151 - val_loss: 0.6693 - val_acc: 0.5833\n",
      "Epoch 100/100\n",
      "278/278 [==============================] - 0s - loss: 0.6542 - acc: 0.6151 - val_loss: 0.6692 - val_acc: 0.5833\n"
     ]
    }
   ],
   "source": [
    "history = model.fit(X_train, y_train, batch_size = 50, validation_split = 0.3, epochs = 100, verbose = 1)"
   ]
  },
  {
   "cell_type": "code",
   "execution_count": 16,
   "metadata": {
    "collapsed": false
   },
   "outputs": [
    {
     "data": {
      "image/png": "[encoded data removed]",
      "text/plain": [
       "<matplotlib.figure.Figure at 0x10fb4a4d0>"
      ]
     },
     "metadata": {},
     "output_type": "display_data"
    }
   ],
   "source": [
    "%matplotlib inline  \n",
    "plt.plot(history.history['acc'])\n",
    "plt.plot(history.history['val_acc'])\n",
    "plt.legend(['training','validation'], loc = 'upper left')\n",
    "plt.show()"
   ]
  },
  {
   "cell_type": "markdown",
   "metadata": {},
   "source": [
    "### 3. Evaluation\n",
    "- Keras model can be evaluated with evaluate() function\n",
    "- Evaluation results are contained in a list\n",
    "    - Doc (metrics): https://keras.io/metrics/"
   ]
  },
  {
   "cell_type": "code",
   "execution_count": 17,
   "metadata": {
    "collapsed": false
   },
   "outputs": [
    {
     "name": "stdout",
     "output_type": "stream",
     "text": [
      "\r",
      " 32/171 [====>.........................] - ETA: 0s"
     ]
    }
   ],
   "source": [
    "results = model.evaluate(X_test, y_test)"
   ]
  },
  {
   "cell_type": "code",
   "execution_count": 18,
   "metadata": {
    "collapsed": false
   },
   "outputs": [
    {
     "name": "stdout",
     "output_type": "stream",
     "text": [
      "['loss', 'acc']\n",
      "[0.62530872626611367, 0.67836257240228481]\n"
     ]
    }
   ],
   "source": [
    "print(model.metrics_names)     # list of metric names the model is employing\n",
    "print(results)                 # actual figure of metrics computed"
   ]
  },
  {
   "cell_type": "code",
   "execution_count": 19,
   "metadata": {
    "collapsed": false
   },
   "outputs": [
    {
     "name": "stdout",
     "output_type": "stream",
     "text": [
      "('loss: ', 0.62530872626611367)\n",
      "('accuracy: ', 0.67836257240228481)\n"
     ]
    }
   ],
   "source": [
    "print('loss: ', results[0])\n",
    "print('accuracy: ', results[1])"
   ]
  },
  {
   "cell_type": "code",
   "execution_count": null,
   "metadata": {
    "collapsed": true
   },
   "outputs": [],
   "source": []
  },
  {
   "cell_type": "code",
   "execution_count": null,
   "metadata": {
    "collapsed": true
   },
   "outputs": [],
   "source": []
  }
 ],
 "metadata": {
  "kernelspec": {
   "display_name": "Python 2",
   "language": "python",
   "name": "python2"
  },
  "language_info": {
   "codemirror_mode": {
    "name": "ipython",
    "version": 2
   },
   "file_extension": ".py",
   "mimetype": "text/x-python",
   "name": "python",
   "nbconvert_exporter": "python",
   "pygments_lexer": "ipython2",
   "version": "2.7.14"
  }
 },
 "nbformat": 4,
 "nbformat_minor": 2
}
